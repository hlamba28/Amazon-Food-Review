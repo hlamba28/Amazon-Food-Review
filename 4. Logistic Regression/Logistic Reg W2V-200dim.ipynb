{
 "cells": [
  {
   "cell_type": "code",
   "execution_count": 1,
   "metadata": {},
   "outputs": [
    {
     "name": "stderr",
     "output_type": "stream",
     "text": [
      "C:\\ProgramData\\Anaconda3\\lib\\site-packages\\gensim\\utils.py:1209: UserWarning: detected Windows; aliasing chunkize to chunkize_serial\n",
      "  warnings.warn(\"detected Windows; aliasing chunkize to chunkize_serial\")\n"
     ]
    }
   ],
   "source": [
    "import numpy as np\n",
    "import pandas as pd\n",
    "import matplotlib.pyplot as plt\n",
    "import seaborn as sns\n",
    "%matplotlib inline\n",
    "\n",
    "import sqlite3    ## SQL Interface\n",
    "import pickle     ## Used to save your data - Converts objects to byte stream and vice versa\n",
    "import time\n",
    "\n",
    "from sklearn.linear_model import LogisticRegression\n",
    "from sklearn.preprocessing import StandardScaler\n",
    "\n",
    "from sklearn.metrics import accuracy_score, confusion_matrix\n",
    "from sklearn.model_selection import train_test_split, cross_val_score\n",
    "\n",
    "import gensim    ## Word Embeddings"
   ]
  },
  {
   "cell_type": "markdown",
   "metadata": {},
   "source": [
    "### Read the cleaned sqlite file"
   ]
  },
  {
   "cell_type": "code",
   "execution_count": 2,
   "metadata": {},
   "outputs": [
    {
     "data": {
      "text/html": [
       "<div>\n",
       "<style scoped>\n",
       "    .dataframe tbody tr th:only-of-type {\n",
       "        vertical-align: middle;\n",
       "    }\n",
       "\n",
       "    .dataframe tbody tr th {\n",
       "        vertical-align: top;\n",
       "    }\n",
       "\n",
       "    .dataframe thead th {\n",
       "        text-align: right;\n",
       "    }\n",
       "</style>\n",
       "<table border=\"1\" class=\"dataframe\">\n",
       "  <thead>\n",
       "    <tr style=\"text-align: right;\">\n",
       "      <th></th>\n",
       "      <th>Id</th>\n",
       "      <th>ProductId</th>\n",
       "      <th>UserId</th>\n",
       "      <th>ProfileName</th>\n",
       "      <th>HelpfulnessNumerator</th>\n",
       "      <th>HelpfulnessDenominator</th>\n",
       "      <th>Score</th>\n",
       "      <th>Time</th>\n",
       "      <th>Summary</th>\n",
       "      <th>Text</th>\n",
       "      <th>CleanedText</th>\n",
       "    </tr>\n",
       "  </thead>\n",
       "  <tbody>\n",
       "    <tr>\n",
       "      <th>0</th>\n",
       "      <td>1</td>\n",
       "      <td>B001E4KFG0</td>\n",
       "      <td>A3SGXH7AUHU8GW</td>\n",
       "      <td>delmartian</td>\n",
       "      <td>1</td>\n",
       "      <td>1</td>\n",
       "      <td>1</td>\n",
       "      <td>1303862400</td>\n",
       "      <td>Good Quality Dog Food</td>\n",
       "      <td>I have bought several of the Vitality canned d...</td>\n",
       "      <td>bought sever vital can dog food product found ...</td>\n",
       "    </tr>\n",
       "    <tr>\n",
       "      <th>1</th>\n",
       "      <td>2</td>\n",
       "      <td>B00813GRG4</td>\n",
       "      <td>A1D87F6ZCVE5NK</td>\n",
       "      <td>dll pa</td>\n",
       "      <td>0</td>\n",
       "      <td>0</td>\n",
       "      <td>0</td>\n",
       "      <td>1346976000</td>\n",
       "      <td>Not as Advertised</td>\n",
       "      <td>Product arrived labeled as Jumbo Salted Peanut...</td>\n",
       "      <td>product arriv label jumbo salt peanut peanut a...</td>\n",
       "    </tr>\n",
       "    <tr>\n",
       "      <th>2</th>\n",
       "      <td>3</td>\n",
       "      <td>B000LQOCH0</td>\n",
       "      <td>ABXLMWJIXXAIN</td>\n",
       "      <td>Natalia Corres \"Natalia Corres\"</td>\n",
       "      <td>1</td>\n",
       "      <td>1</td>\n",
       "      <td>1</td>\n",
       "      <td>1219017600</td>\n",
       "      <td>\"Delight\" says it all</td>\n",
       "      <td>This is a confection that has been around a fe...</td>\n",
       "      <td>confect around centuri light pillowi citrus ge...</td>\n",
       "    </tr>\n",
       "    <tr>\n",
       "      <th>3</th>\n",
       "      <td>4</td>\n",
       "      <td>B000UA0QIQ</td>\n",
       "      <td>A395BORC6FGVXV</td>\n",
       "      <td>Karl</td>\n",
       "      <td>3</td>\n",
       "      <td>3</td>\n",
       "      <td>0</td>\n",
       "      <td>1307923200</td>\n",
       "      <td>Cough Medicine</td>\n",
       "      <td>If you are looking for the secret ingredient i...</td>\n",
       "      <td>look secret ingredi robitussin believ found go...</td>\n",
       "    </tr>\n",
       "    <tr>\n",
       "      <th>4</th>\n",
       "      <td>5</td>\n",
       "      <td>B006K2ZZ7K</td>\n",
       "      <td>A1UQRSCLF8GW1T</td>\n",
       "      <td>Michael D. Bigham \"M. Wassir\"</td>\n",
       "      <td>0</td>\n",
       "      <td>0</td>\n",
       "      <td>1</td>\n",
       "      <td>1350777600</td>\n",
       "      <td>Great taffy</td>\n",
       "      <td>Great taffy at a great price.  There was a wid...</td>\n",
       "      <td>great taffi great price wide assort yummi taff...</td>\n",
       "    </tr>\n",
       "  </tbody>\n",
       "</table>\n",
       "</div>"
      ],
      "text/plain": [
       "   Id   ProductId          UserId                      ProfileName  \\\n",
       "0   1  B001E4KFG0  A3SGXH7AUHU8GW                       delmartian   \n",
       "1   2  B00813GRG4  A1D87F6ZCVE5NK                           dll pa   \n",
       "2   3  B000LQOCH0   ABXLMWJIXXAIN  Natalia Corres \"Natalia Corres\"   \n",
       "3   4  B000UA0QIQ  A395BORC6FGVXV                             Karl   \n",
       "4   5  B006K2ZZ7K  A1UQRSCLF8GW1T    Michael D. Bigham \"M. Wassir\"   \n",
       "\n",
       "   HelpfulnessNumerator  HelpfulnessDenominator  Score        Time  \\\n",
       "0                     1                       1      1  1303862400   \n",
       "1                     0                       0      0  1346976000   \n",
       "2                     1                       1      1  1219017600   \n",
       "3                     3                       3      0  1307923200   \n",
       "4                     0                       0      1  1350777600   \n",
       "\n",
       "                 Summary                                               Text  \\\n",
       "0  Good Quality Dog Food  I have bought several of the Vitality canned d...   \n",
       "1      Not as Advertised  Product arrived labeled as Jumbo Salted Peanut...   \n",
       "2  \"Delight\" says it all  This is a confection that has been around a fe...   \n",
       "3         Cough Medicine  If you are looking for the secret ingredient i...   \n",
       "4            Great taffy  Great taffy at a great price.  There was a wid...   \n",
       "\n",
       "                                         CleanedText  \n",
       "0  bought sever vital can dog food product found ...  \n",
       "1  product arriv label jumbo salt peanut peanut a...  \n",
       "2  confect around centuri light pillowi citrus ge...  \n",
       "3  look secret ingredi robitussin believ found go...  \n",
       "4  great taffi great price wide assort yummi taff...  "
      ]
     },
     "execution_count": 2,
     "metadata": {},
     "output_type": "execute_result"
    }
   ],
   "source": [
    "conn = sqlite3.connect('../8. Amazon_New/final.sqlite')\n",
    "final = pd.read_sql_query(\"\"\"SELECT * FROM Reviews\"\"\", conn)\n",
    "conn.close()\n",
    "final.head()"
   ]
  },
  {
   "cell_type": "markdown",
   "metadata": {},
   "source": [
    "### Read the list_of_sent created during EDA and cleaning"
   ]
  },
  {
   "cell_type": "code",
   "execution_count": 3,
   "metadata": {},
   "outputs": [],
   "source": [
    "with open('../8. Amazon_New/list_of_sent_for_input_to_w2v.pkl', 'rb') as pickle_file:\n",
    "    list_of_sent = pickle.load(pickle_file)"
   ]
  },
  {
   "cell_type": "markdown",
   "metadata": {},
   "source": [
    "#### Training the Word2Vec model for words with min count 5¶\n",
    "Reference for intuition - https://www.tensorflow.org/tutorials/word2vec"
   ]
  },
  {
   "cell_type": "code",
   "execution_count": 4,
   "metadata": {},
   "outputs": [],
   "source": [
    "## size is the no of dimensions\n",
    "## min_count specifies the min no of times a word needs to occur to be included in the model\n",
    "## workers is the number of cores on your PC\n",
    "w2v_model=gensim.models.Word2Vec(list_of_sent,min_count=5,size=200, workers=-1)"
   ]
  },
  {
   "cell_type": "markdown",
   "metadata": {},
   "source": [
    "## Function to calculate Avg Word2Vec"
   ]
  },
  {
   "cell_type": "code",
   "execution_count": 5,
   "metadata": {},
   "outputs": [],
   "source": [
    "def calc_avg_w2v(list_of_sent, w2v_model):\n",
    "    '''This function takes in 2 parameters as follows:\n",
    "       1. list_of_sent - This is the list of sentences/reviews for which sentence vetors are to be constructed\n",
    "       2. w2v_model - This is the Word2Vec model which is trained on the working corpus - contains the word vectors\n",
    "       \n",
    "       Return Value:\n",
    "       sent_vectors - This is a list of sentence/review vectors constructed by averaging the word vectors\n",
    "    '''\n",
    "    \n",
    "    ## Initialize an empty list\n",
    "    sent_vectors = []\n",
    "    \n",
    "    ## Consider one sentence/review at a time\n",
    "    for sent in list_of_sent:\n",
    "        ## Initialize sentence vector to 0\n",
    "        ## Note: Size of the vector must match the no. of dimensions used in word2vec model\n",
    "        sent_vec = np.zeros(200)\n",
    "        \n",
    "        ## Initialize count of words to 0\n",
    "        cnt_words = 0\n",
    "        \n",
    "        ## Consider the words one by one\n",
    "        for word in sent:\n",
    "            try:\n",
    "                ## Calculate the word vector using the W2V model\n",
    "                vec = w2v_model.wv[word]\n",
    "                ## Add the word vector to the sentence vector (This is the numerator)\n",
    "                sent_vec += vec\n",
    "                ## Sum all the word counts (This is the denominator)\n",
    "                cnt_words += 1\n",
    "            except:\n",
    "                pass\n",
    "        ## Divide the numerator by the denominator to get the sentence vector\n",
    "        sent_vec /= cnt_words\n",
    "        ## Add the sentence vector in the final list\n",
    "        sent_vectors.append(sent_vec)\n",
    "    ## return the list of all the sentence vectors\n",
    "    return sent_vectors"
   ]
  },
  {
   "cell_type": "code",
   "execution_count": 6,
   "metadata": {},
   "outputs": [
    {
     "name": "stderr",
     "output_type": "stream",
     "text": [
      "C:\\ProgramData\\Anaconda3\\lib\\site-packages\\ipykernel_launcher.py:34: RuntimeWarning: invalid value encountered in true_divide\n"
     ]
    },
    {
     "name": "stdout",
     "output_type": "stream",
     "text": [
      "Time taken in minutes 5.592599324385325\n"
     ]
    }
   ],
   "source": [
    "start = time.time()\n",
    "sent_vectors = calc_avg_w2v(list_of_sent, w2v_model)\n",
    "end = time.time()\n",
    "print(\"Time taken in minutes\", (end - start)/60)"
   ]
  },
  {
   "cell_type": "code",
   "execution_count": 7,
   "metadata": {},
   "outputs": [
    {
     "data": {
      "text/plain": [
       "(363857, 200)"
      ]
     },
     "execution_count": 7,
     "metadata": {},
     "output_type": "execute_result"
    }
   ],
   "source": [
    "len(sent_vectors), len(sent_vectors[0])"
   ]
  },
  {
   "cell_type": "markdown",
   "metadata": {},
   "source": [
    "### Convert the list of vectors into a pandas dataframe"
   ]
  },
  {
   "cell_type": "code",
   "execution_count": 8,
   "metadata": {},
   "outputs": [
    {
     "data": {
      "text/html": [
       "<div>\n",
       "<style scoped>\n",
       "    .dataframe tbody tr th:only-of-type {\n",
       "        vertical-align: middle;\n",
       "    }\n",
       "\n",
       "    .dataframe tbody tr th {\n",
       "        vertical-align: top;\n",
       "    }\n",
       "\n",
       "    .dataframe thead th {\n",
       "        text-align: right;\n",
       "    }\n",
       "</style>\n",
       "<table border=\"1\" class=\"dataframe\">\n",
       "  <thead>\n",
       "    <tr style=\"text-align: right;\">\n",
       "      <th></th>\n",
       "      <th>0</th>\n",
       "      <th>1</th>\n",
       "      <th>2</th>\n",
       "      <th>3</th>\n",
       "      <th>4</th>\n",
       "      <th>5</th>\n",
       "      <th>6</th>\n",
       "      <th>7</th>\n",
       "      <th>8</th>\n",
       "      <th>9</th>\n",
       "      <th>...</th>\n",
       "      <th>190</th>\n",
       "      <th>191</th>\n",
       "      <th>192</th>\n",
       "      <th>193</th>\n",
       "      <th>194</th>\n",
       "      <th>195</th>\n",
       "      <th>196</th>\n",
       "      <th>197</th>\n",
       "      <th>198</th>\n",
       "      <th>199</th>\n",
       "    </tr>\n",
       "  </thead>\n",
       "  <tbody>\n",
       "    <tr>\n",
       "      <th>0</th>\n",
       "      <td>0.000230</td>\n",
       "      <td>-0.000216</td>\n",
       "      <td>-0.000349</td>\n",
       "      <td>-0.000291</td>\n",
       "      <td>0.000273</td>\n",
       "      <td>-0.000159</td>\n",
       "      <td>-0.000501</td>\n",
       "      <td>-0.000483</td>\n",
       "      <td>0.000091</td>\n",
       "      <td>0.000797</td>\n",
       "      <td>...</td>\n",
       "      <td>-0.000025</td>\n",
       "      <td>0.000062</td>\n",
       "      <td>-0.000014</td>\n",
       "      <td>0.000268</td>\n",
       "      <td>0.000254</td>\n",
       "      <td>-0.000068</td>\n",
       "      <td>0.000263</td>\n",
       "      <td>0.000102</td>\n",
       "      <td>-0.000249</td>\n",
       "      <td>0.000245</td>\n",
       "    </tr>\n",
       "    <tr>\n",
       "      <th>1</th>\n",
       "      <td>0.000354</td>\n",
       "      <td>-0.000024</td>\n",
       "      <td>0.000396</td>\n",
       "      <td>0.000401</td>\n",
       "      <td>-0.000320</td>\n",
       "      <td>-0.000735</td>\n",
       "      <td>-0.000603</td>\n",
       "      <td>0.000272</td>\n",
       "      <td>-0.000244</td>\n",
       "      <td>0.000307</td>\n",
       "      <td>...</td>\n",
       "      <td>0.000385</td>\n",
       "      <td>-0.000599</td>\n",
       "      <td>0.000105</td>\n",
       "      <td>-0.000079</td>\n",
       "      <td>-0.000216</td>\n",
       "      <td>0.000122</td>\n",
       "      <td>-0.000502</td>\n",
       "      <td>0.000070</td>\n",
       "      <td>-0.000427</td>\n",
       "      <td>-0.000891</td>\n",
       "    </tr>\n",
       "    <tr>\n",
       "      <th>2</th>\n",
       "      <td>-0.000259</td>\n",
       "      <td>0.000275</td>\n",
       "      <td>-0.000063</td>\n",
       "      <td>-0.000233</td>\n",
       "      <td>0.000406</td>\n",
       "      <td>-0.000024</td>\n",
       "      <td>0.000210</td>\n",
       "      <td>-0.000297</td>\n",
       "      <td>0.000129</td>\n",
       "      <td>-0.000218</td>\n",
       "      <td>...</td>\n",
       "      <td>0.000352</td>\n",
       "      <td>0.000032</td>\n",
       "      <td>-0.000135</td>\n",
       "      <td>0.000152</td>\n",
       "      <td>-0.000488</td>\n",
       "      <td>-0.000153</td>\n",
       "      <td>0.000108</td>\n",
       "      <td>0.000079</td>\n",
       "      <td>0.000093</td>\n",
       "      <td>0.000274</td>\n",
       "    </tr>\n",
       "    <tr>\n",
       "      <th>3</th>\n",
       "      <td>0.000294</td>\n",
       "      <td>0.000716</td>\n",
       "      <td>0.000441</td>\n",
       "      <td>-0.000254</td>\n",
       "      <td>-0.000098</td>\n",
       "      <td>0.000466</td>\n",
       "      <td>0.000451</td>\n",
       "      <td>-0.000589</td>\n",
       "      <td>0.000628</td>\n",
       "      <td>0.000009</td>\n",
       "      <td>...</td>\n",
       "      <td>0.000090</td>\n",
       "      <td>0.000010</td>\n",
       "      <td>-0.000240</td>\n",
       "      <td>0.000112</td>\n",
       "      <td>-0.000400</td>\n",
       "      <td>0.000053</td>\n",
       "      <td>0.000360</td>\n",
       "      <td>-0.000358</td>\n",
       "      <td>-0.000161</td>\n",
       "      <td>0.000054</td>\n",
       "    </tr>\n",
       "    <tr>\n",
       "      <th>4</th>\n",
       "      <td>0.001007</td>\n",
       "      <td>-0.000624</td>\n",
       "      <td>-0.000514</td>\n",
       "      <td>-0.001039</td>\n",
       "      <td>-0.000514</td>\n",
       "      <td>0.000111</td>\n",
       "      <td>0.000250</td>\n",
       "      <td>-0.000350</td>\n",
       "      <td>-0.000072</td>\n",
       "      <td>0.000743</td>\n",
       "      <td>...</td>\n",
       "      <td>0.000095</td>\n",
       "      <td>-0.000096</td>\n",
       "      <td>-0.000136</td>\n",
       "      <td>0.000141</td>\n",
       "      <td>0.000328</td>\n",
       "      <td>-0.000611</td>\n",
       "      <td>0.000063</td>\n",
       "      <td>0.001290</td>\n",
       "      <td>0.000042</td>\n",
       "      <td>0.000702</td>\n",
       "    </tr>\n",
       "  </tbody>\n",
       "</table>\n",
       "<p>5 rows × 200 columns</p>\n",
       "</div>"
      ],
      "text/plain": [
       "        0         1         2         3         4         5         6    \\\n",
       "0  0.000230 -0.000216 -0.000349 -0.000291  0.000273 -0.000159 -0.000501   \n",
       "1  0.000354 -0.000024  0.000396  0.000401 -0.000320 -0.000735 -0.000603   \n",
       "2 -0.000259  0.000275 -0.000063 -0.000233  0.000406 -0.000024  0.000210   \n",
       "3  0.000294  0.000716  0.000441 -0.000254 -0.000098  0.000466  0.000451   \n",
       "4  0.001007 -0.000624 -0.000514 -0.001039 -0.000514  0.000111  0.000250   \n",
       "\n",
       "        7         8         9      ...          190       191       192  \\\n",
       "0 -0.000483  0.000091  0.000797    ...    -0.000025  0.000062 -0.000014   \n",
       "1  0.000272 -0.000244  0.000307    ...     0.000385 -0.000599  0.000105   \n",
       "2 -0.000297  0.000129 -0.000218    ...     0.000352  0.000032 -0.000135   \n",
       "3 -0.000589  0.000628  0.000009    ...     0.000090  0.000010 -0.000240   \n",
       "4 -0.000350 -0.000072  0.000743    ...     0.000095 -0.000096 -0.000136   \n",
       "\n",
       "        193       194       195       196       197       198       199  \n",
       "0  0.000268  0.000254 -0.000068  0.000263  0.000102 -0.000249  0.000245  \n",
       "1 -0.000079 -0.000216  0.000122 -0.000502  0.000070 -0.000427 -0.000891  \n",
       "2  0.000152 -0.000488 -0.000153  0.000108  0.000079  0.000093  0.000274  \n",
       "3  0.000112 -0.000400  0.000053  0.000360 -0.000358 -0.000161  0.000054  \n",
       "4  0.000141  0.000328 -0.000611  0.000063  0.001290  0.000042  0.000702  \n",
       "\n",
       "[5 rows x 200 columns]"
      ]
     },
     "execution_count": 8,
     "metadata": {},
     "output_type": "execute_result"
    }
   ],
   "source": [
    "data = pd.DataFrame(sent_vectors)\n",
    "data.head()"
   ]
  },
  {
   "cell_type": "code",
   "execution_count": 9,
   "metadata": {},
   "outputs": [
    {
     "data": {
      "text/html": [
       "<div>\n",
       "<style scoped>\n",
       "    .dataframe tbody tr th:only-of-type {\n",
       "        vertical-align: middle;\n",
       "    }\n",
       "\n",
       "    .dataframe tbody tr th {\n",
       "        vertical-align: top;\n",
       "    }\n",
       "\n",
       "    .dataframe thead th {\n",
       "        text-align: right;\n",
       "    }\n",
       "</style>\n",
       "<table border=\"1\" class=\"dataframe\">\n",
       "  <thead>\n",
       "    <tr style=\"text-align: right;\">\n",
       "      <th></th>\n",
       "      <th>Time</th>\n",
       "      <th>Score</th>\n",
       "      <th>0</th>\n",
       "      <th>1</th>\n",
       "      <th>2</th>\n",
       "      <th>3</th>\n",
       "      <th>4</th>\n",
       "      <th>5</th>\n",
       "      <th>6</th>\n",
       "      <th>7</th>\n",
       "      <th>...</th>\n",
       "      <th>190</th>\n",
       "      <th>191</th>\n",
       "      <th>192</th>\n",
       "      <th>193</th>\n",
       "      <th>194</th>\n",
       "      <th>195</th>\n",
       "      <th>196</th>\n",
       "      <th>197</th>\n",
       "      <th>198</th>\n",
       "      <th>199</th>\n",
       "    </tr>\n",
       "  </thead>\n",
       "  <tbody>\n",
       "    <tr>\n",
       "      <th>117879</th>\n",
       "      <td>939340800</td>\n",
       "      <td>1</td>\n",
       "      <td>0.000297</td>\n",
       "      <td>-0.000215</td>\n",
       "      <td>-0.000491</td>\n",
       "      <td>-0.000090</td>\n",
       "      <td>-0.000180</td>\n",
       "      <td>0.000135</td>\n",
       "      <td>-0.000159</td>\n",
       "      <td>-0.000157</td>\n",
       "      <td>...</td>\n",
       "      <td>0.000110</td>\n",
       "      <td>0.000093</td>\n",
       "      <td>-0.000351</td>\n",
       "      <td>0.000288</td>\n",
       "      <td>0.000149</td>\n",
       "      <td>-0.000194</td>\n",
       "      <td>-0.000150</td>\n",
       "      <td>-0.000548</td>\n",
       "      <td>-0.000159</td>\n",
       "      <td>-0.000227</td>\n",
       "    </tr>\n",
       "    <tr>\n",
       "      <th>117856</th>\n",
       "      <td>940809600</td>\n",
       "      <td>1</td>\n",
       "      <td>0.000153</td>\n",
       "      <td>0.000204</td>\n",
       "      <td>-0.000164</td>\n",
       "      <td>-0.000209</td>\n",
       "      <td>-0.000241</td>\n",
       "      <td>0.000443</td>\n",
       "      <td>-0.000048</td>\n",
       "      <td>-0.000320</td>\n",
       "      <td>...</td>\n",
       "      <td>-0.000148</td>\n",
       "      <td>-0.000184</td>\n",
       "      <td>-0.000245</td>\n",
       "      <td>0.000262</td>\n",
       "      <td>0.000130</td>\n",
       "      <td>0.000093</td>\n",
       "      <td>0.000061</td>\n",
       "      <td>-0.000108</td>\n",
       "      <td>0.000283</td>\n",
       "      <td>0.000262</td>\n",
       "    </tr>\n",
       "    <tr>\n",
       "      <th>298565</th>\n",
       "      <td>944092800</td>\n",
       "      <td>1</td>\n",
       "      <td>-0.000025</td>\n",
       "      <td>-0.000605</td>\n",
       "      <td>0.000574</td>\n",
       "      <td>-0.000033</td>\n",
       "      <td>-0.000060</td>\n",
       "      <td>0.000047</td>\n",
       "      <td>0.000541</td>\n",
       "      <td>-0.000421</td>\n",
       "      <td>...</td>\n",
       "      <td>-0.000533</td>\n",
       "      <td>0.000062</td>\n",
       "      <td>-0.000674</td>\n",
       "      <td>0.000140</td>\n",
       "      <td>0.000151</td>\n",
       "      <td>0.000695</td>\n",
       "      <td>0.000743</td>\n",
       "      <td>0.000035</td>\n",
       "      <td>0.000022</td>\n",
       "      <td>-0.000169</td>\n",
       "    </tr>\n",
       "    <tr>\n",
       "      <th>169198</th>\n",
       "      <td>944438400</td>\n",
       "      <td>1</td>\n",
       "      <td>0.000079</td>\n",
       "      <td>-0.000407</td>\n",
       "      <td>-0.000108</td>\n",
       "      <td>0.000063</td>\n",
       "      <td>0.000486</td>\n",
       "      <td>-0.000278</td>\n",
       "      <td>0.000315</td>\n",
       "      <td>0.000233</td>\n",
       "      <td>...</td>\n",
       "      <td>-0.000051</td>\n",
       "      <td>-0.000032</td>\n",
       "      <td>-0.000082</td>\n",
       "      <td>0.000385</td>\n",
       "      <td>-0.000313</td>\n",
       "      <td>-0.000096</td>\n",
       "      <td>-0.000210</td>\n",
       "      <td>0.000664</td>\n",
       "      <td>0.000227</td>\n",
       "      <td>0.000125</td>\n",
       "    </tr>\n",
       "    <tr>\n",
       "      <th>298564</th>\n",
       "      <td>946857600</td>\n",
       "      <td>1</td>\n",
       "      <td>0.000282</td>\n",
       "      <td>-0.000299</td>\n",
       "      <td>0.000462</td>\n",
       "      <td>-0.000232</td>\n",
       "      <td>0.000071</td>\n",
       "      <td>-0.000212</td>\n",
       "      <td>0.000009</td>\n",
       "      <td>-0.000048</td>\n",
       "      <td>...</td>\n",
       "      <td>0.000042</td>\n",
       "      <td>0.000023</td>\n",
       "      <td>-0.000359</td>\n",
       "      <td>-0.000142</td>\n",
       "      <td>0.000586</td>\n",
       "      <td>-0.000417</td>\n",
       "      <td>0.000302</td>\n",
       "      <td>-0.000262</td>\n",
       "      <td>-0.000174</td>\n",
       "      <td>-0.000367</td>\n",
       "    </tr>\n",
       "  </tbody>\n",
       "</table>\n",
       "<p>5 rows × 202 columns</p>\n",
       "</div>"
      ],
      "text/plain": [
       "             Time  Score         0         1         2         3         4  \\\n",
       "117879  939340800      1  0.000297 -0.000215 -0.000491 -0.000090 -0.000180   \n",
       "117856  940809600      1  0.000153  0.000204 -0.000164 -0.000209 -0.000241   \n",
       "298565  944092800      1 -0.000025 -0.000605  0.000574 -0.000033 -0.000060   \n",
       "169198  944438400      1  0.000079 -0.000407 -0.000108  0.000063  0.000486   \n",
       "298564  946857600      1  0.000282 -0.000299  0.000462 -0.000232  0.000071   \n",
       "\n",
       "               5         6         7    ...          190       191       192  \\\n",
       "117879  0.000135 -0.000159 -0.000157    ...     0.000110  0.000093 -0.000351   \n",
       "117856  0.000443 -0.000048 -0.000320    ...    -0.000148 -0.000184 -0.000245   \n",
       "298565  0.000047  0.000541 -0.000421    ...    -0.000533  0.000062 -0.000674   \n",
       "169198 -0.000278  0.000315  0.000233    ...    -0.000051 -0.000032 -0.000082   \n",
       "298564 -0.000212  0.000009 -0.000048    ...     0.000042  0.000023 -0.000359   \n",
       "\n",
       "             193       194       195       196       197       198       199  \n",
       "117879  0.000288  0.000149 -0.000194 -0.000150 -0.000548 -0.000159 -0.000227  \n",
       "117856  0.000262  0.000130  0.000093  0.000061 -0.000108  0.000283  0.000262  \n",
       "298565  0.000140  0.000151  0.000695  0.000743  0.000035  0.000022 -0.000169  \n",
       "169198  0.000385 -0.000313 -0.000096 -0.000210  0.000664  0.000227  0.000125  \n",
       "298564 -0.000142  0.000586 -0.000417  0.000302 -0.000262 -0.000174 -0.000367  \n",
       "\n",
       "[5 rows x 202 columns]"
      ]
     },
     "execution_count": 9,
     "metadata": {},
     "output_type": "execute_result"
    }
   ],
   "source": [
    "data = pd.concat([final['Time'], final['Score'], data], axis = 1)\n",
    "data.sort_values('Time', inplace = True)\n",
    "data.head()"
   ]
  },
  {
   "cell_type": "code",
   "execution_count": 10,
   "metadata": {},
   "outputs": [
    {
     "data": {
      "text/plain": [
       "(363857, 202)"
      ]
     },
     "execution_count": 10,
     "metadata": {},
     "output_type": "execute_result"
    }
   ],
   "source": [
    "data.shape"
   ]
  },
  {
   "cell_type": "markdown",
   "metadata": {},
   "source": [
    "### Due to some reasons a few rows might contain NAN values, so delete them"
   ]
  },
  {
   "cell_type": "code",
   "execution_count": 11,
   "metadata": {},
   "outputs": [],
   "source": [
    "data.dropna(inplace = True)"
   ]
  },
  {
   "cell_type": "code",
   "execution_count": 12,
   "metadata": {},
   "outputs": [
    {
     "data": {
      "text/plain": [
       "(363854, 202)"
      ]
     },
     "execution_count": 12,
     "metadata": {},
     "output_type": "execute_result"
    }
   ],
   "source": [
    "data.shape"
   ]
  },
  {
   "cell_type": "code",
   "execution_count": 13,
   "metadata": {},
   "outputs": [],
   "source": [
    "# If you do not require some variables, delete them from your main memory\n",
    "del final"
   ]
  },
  {
   "cell_type": "code",
   "execution_count": 14,
   "metadata": {},
   "outputs": [
    {
     "data": {
      "text/plain": [
       "1    306776\n",
       "0     57078\n",
       "Name: Score, dtype: int64"
      ]
     },
     "execution_count": 14,
     "metadata": {},
     "output_type": "execute_result"
    }
   ],
   "source": [
    "data['Score'].value_counts()"
   ]
  },
  {
   "cell_type": "markdown",
   "metadata": {},
   "source": [
    "### Separate X and y"
   ]
  },
  {
   "cell_type": "code",
   "execution_count": 15,
   "metadata": {},
   "outputs": [],
   "source": [
    "X = X = data.drop(labels=['Time', 'Score'], axis = 1)\n",
    "y = data['Score']"
   ]
  },
  {
   "cell_type": "markdown",
   "metadata": {},
   "source": [
    "### Time based splitting"
   ]
  },
  {
   "cell_type": "code",
   "execution_count": 16,
   "metadata": {},
   "outputs": [],
   "source": [
    "# Perform a 70-30 time based splitting (shuffle = False)\n",
    "X_train, X_test, y_train, y_test = train_test_split(X, y, test_size = 0.3, shuffle = False)"
   ]
  },
  {
   "cell_type": "code",
   "execution_count": 17,
   "metadata": {},
   "outputs": [
    {
     "data": {
      "text/plain": [
       "((254697, 200), (254697,), (109157, 200), (109157,))"
      ]
     },
     "execution_count": 17,
     "metadata": {},
     "output_type": "execute_result"
    }
   ],
   "source": [
    "X_train.shape, y_train.shape, X_test.shape, y_test.shape"
   ]
  },
  {
   "cell_type": "markdown",
   "metadata": {},
   "source": [
    "### Perform Column Standardization"
   ]
  },
  {
   "cell_type": "code",
   "execution_count": 18,
   "metadata": {},
   "outputs": [],
   "source": [
    "std = StandardScaler()\n",
    "X_train = std.fit_transform(X_train)\n",
    "X_test = std.transform(X_test)"
   ]
  },
  {
   "cell_type": "markdown",
   "metadata": {},
   "source": [
    "### Cross validation and Hyper Parameter tuning"
   ]
  },
  {
   "cell_type": "code",
   "execution_count": 19,
   "metadata": {},
   "outputs": [
    {
     "name": "stdout",
     "output_type": "stream",
     "text": [
      "\n",
      "The optimal alpha is 0.5\n",
      "Total time in minutes =  17.557727603117623\n"
     ]
    }
   ],
   "source": [
    "start = time.time()\n",
    "# creating list of C\n",
    "C_values = np.linspace(0.1,1,10)\n",
    "\n",
    "cv_scores = [] # empty list that will hold cv scores\n",
    "\n",
    "# Try each value of alpha in the below loop\n",
    "for c in C_values:\n",
    "    # Create an object of the class Logistic Regression with balanced class weights\n",
    "    clf = LogisticRegression(C = c, class_weight = 'balanced')\n",
    "    # perform 5-fold cross validation\n",
    "    # It returns the cv accuracy for each fold in a list\n",
    "    scores = cross_val_score(clf, X_train, y_train, cv=5, scoring='accuracy')\n",
    "    # Store the mean of the accuracies from all the 5 folds\n",
    "    cv_scores.append(scores.mean())\n",
    "\n",
    "# calculate misclassification error from accuracy (error = 1 - accuracy)\n",
    "cv_error = [1 - x for x in cv_scores]\n",
    "\n",
    "# optimal (best) C is the one for which error is minimum (or accuracy is maximum)\n",
    "optimal_C = C_values[cv_error.index(min(cv_error))]\n",
    "print('\\nThe optimal alpha is', optimal_C)\n",
    "\n",
    "end = time.time()\n",
    "print(\"Total time in minutes = \", (end-start)/60)"
   ]
  },
  {
   "cell_type": "code",
   "execution_count": 20,
   "metadata": {},
   "outputs": [
    {
     "data": {
      "image/png": "[encoded data removed]",
      "text/plain": [
       "<Figure size 432x288 with 1 Axes>"
      ]
     },
     "metadata": {},
     "output_type": "display_data"
    }
   ],
   "source": [
    "# plot misclassification error vs C\n",
    "plt.plot(C_values, cv_error)\n",
    "plt.xlabel('C')\n",
    "plt.ylabel('Misclassification Error')\n",
    "plt.show()"
   ]
  },
  {
   "cell_type": "code",
   "execution_count": 21,
   "metadata": {},
   "outputs": [
    {
     "name": "stdout",
     "output_type": "stream",
     "text": [
      "Accuracy = 84.10637888545855\n"
     ]
    },
    {
     "data": {
      "text/plain": [
       "array([[ 3569, 15497],\n",
       "       [ 1852, 88239]], dtype=int64)"
      ]
     },
     "execution_count": 21,
     "metadata": {},
     "output_type": "execute_result"
    }
   ],
   "source": [
    "clf = LogisticRegression(C = optimal_C)\n",
    "clf.fit(X_train, y_train)\n",
    "y_pred = clf.predict(X_test)\n",
    "acc = accuracy_score(y_test, y_pred) * 100\n",
    "print(\"Accuracy =\", acc)\n",
    "confusion_matrix(y_test, y_pred)"
   ]
  },
  {
   "cell_type": "markdown",
   "metadata": {},
   "source": [
    "### Feature Selection is not easy if we use the Word2Vec vectorization technique as we are mapping our features in some transformed space"
   ]
  },
  {
   "cell_type": "code",
   "execution_count": null,
   "metadata": {},
   "outputs": [],
   "source": []
  }
 ],
 "metadata": {
  "kernelspec": {
   "display_name": "Python 3",
   "language": "python",
   "name": "python3"
  },
  "language_info": {
   "codemirror_mode": {
    "name": "ipython",
    "version": 3
   },
   "file_extension": ".py",
   "mimetype": "text/x-python",
   "name": "python",
   "nbconvert_exporter": "python",
   "pygments_lexer": "ipython3",
   "version": "3.6.5"
  }
 },
 "nbformat": 4,
 "nbformat_minor": 2
}
