{
 "cells": [
  {
   "cell_type": "code",
   "execution_count": 1,
   "metadata": {},
   "outputs": [
    {
     "name": "stderr",
     "output_type": "stream",
     "text": [
      "C:\\ProgramData\\Anaconda3\\lib\\site-packages\\gensim\\utils.py:1209: UserWarning: detected Windows; aliasing chunkize to chunkize_serial\n",
      "  warnings.warn(\"detected Windows; aliasing chunkize to chunkize_serial\")\n"
     ]
    }
   ],
   "source": [
    "import numpy as np\n",
    "import pandas as pd\n",
    "import matplotlib.pyplot as plt\n",
    "import seaborn as sns\n",
    "%matplotlib inline\n",
    "\n",
    "import sqlite3    ## SQL Interface\n",
    "import pickle     ## Used to save your data - Converts objects to byte stream and vice versa\n",
    "import time\n",
    "\n",
    "from sklearn.linear_model import LogisticRegression\n",
    "from sklearn.preprocessing import StandardScaler\n",
    "\n",
    "from sklearn.metrics import accuracy_score, confusion_matrix\n",
    "from sklearn.model_selection import train_test_split, cross_val_score\n",
    "\n",
    "import gensim    ## Word Embeddings"
   ]
  },
  {
   "cell_type": "markdown",
   "metadata": {},
   "source": [
    "### Read the cleaned sqlite file"
   ]
  },
  {
   "cell_type": "code",
   "execution_count": 2,
   "metadata": {},
   "outputs": [
    {
     "data": {
      "text/html": [
       "<div>\n",
       "<style scoped>\n",
       "    .dataframe tbody tr th:only-of-type {\n",
       "        vertical-align: middle;\n",
       "    }\n",
       "\n",
       "    .dataframe tbody tr th {\n",
       "        vertical-align: top;\n",
       "    }\n",
       "\n",
       "    .dataframe thead th {\n",
       "        text-align: right;\n",
       "    }\n",
       "</style>\n",
       "<table border=\"1\" class=\"dataframe\">\n",
       "  <thead>\n",
       "    <tr style=\"text-align: right;\">\n",
       "      <th></th>\n",
       "      <th>Id</th>\n",
       "      <th>ProductId</th>\n",
       "      <th>UserId</th>\n",
       "      <th>ProfileName</th>\n",
       "      <th>HelpfulnessNumerator</th>\n",
       "      <th>HelpfulnessDenominator</th>\n",
       "      <th>Score</th>\n",
       "      <th>Time</th>\n",
       "      <th>Summary</th>\n",
       "      <th>Text</th>\n",
       "      <th>CleanedText</th>\n",
       "    </tr>\n",
       "  </thead>\n",
       "  <tbody>\n",
       "    <tr>\n",
       "      <th>0</th>\n",
       "      <td>1</td>\n",
       "      <td>B001E4KFG0</td>\n",
       "      <td>A3SGXH7AUHU8GW</td>\n",
       "      <td>delmartian</td>\n",
       "      <td>1</td>\n",
       "      <td>1</td>\n",
       "      <td>1</td>\n",
       "      <td>1303862400</td>\n",
       "      <td>Good Quality Dog Food</td>\n",
       "      <td>I have bought several of the Vitality canned d...</td>\n",
       "      <td>bought sever vital can dog food product found ...</td>\n",
       "    </tr>\n",
       "    <tr>\n",
       "      <th>1</th>\n",
       "      <td>2</td>\n",
       "      <td>B00813GRG4</td>\n",
       "      <td>A1D87F6ZCVE5NK</td>\n",
       "      <td>dll pa</td>\n",
       "      <td>0</td>\n",
       "      <td>0</td>\n",
       "      <td>0</td>\n",
       "      <td>1346976000</td>\n",
       "      <td>Not as Advertised</td>\n",
       "      <td>Product arrived labeled as Jumbo Salted Peanut...</td>\n",
       "      <td>product arriv label jumbo salt peanut peanut a...</td>\n",
       "    </tr>\n",
       "    <tr>\n",
       "      <th>2</th>\n",
       "      <td>3</td>\n",
       "      <td>B000LQOCH0</td>\n",
       "      <td>ABXLMWJIXXAIN</td>\n",
       "      <td>Natalia Corres \"Natalia Corres\"</td>\n",
       "      <td>1</td>\n",
       "      <td>1</td>\n",
       "      <td>1</td>\n",
       "      <td>1219017600</td>\n",
       "      <td>\"Delight\" says it all</td>\n",
       "      <td>This is a confection that has been around a fe...</td>\n",
       "      <td>confect around centuri light pillowi citrus ge...</td>\n",
       "    </tr>\n",
       "    <tr>\n",
       "      <th>3</th>\n",
       "      <td>4</td>\n",
       "      <td>B000UA0QIQ</td>\n",
       "      <td>A395BORC6FGVXV</td>\n",
       "      <td>Karl</td>\n",
       "      <td>3</td>\n",
       "      <td>3</td>\n",
       "      <td>0</td>\n",
       "      <td>1307923200</td>\n",
       "      <td>Cough Medicine</td>\n",
       "      <td>If you are looking for the secret ingredient i...</td>\n",
       "      <td>look secret ingredi robitussin believ found go...</td>\n",
       "    </tr>\n",
       "    <tr>\n",
       "      <th>4</th>\n",
       "      <td>5</td>\n",
       "      <td>B006K2ZZ7K</td>\n",
       "      <td>A1UQRSCLF8GW1T</td>\n",
       "      <td>Michael D. Bigham \"M. Wassir\"</td>\n",
       "      <td>0</td>\n",
       "      <td>0</td>\n",
       "      <td>1</td>\n",
       "      <td>1350777600</td>\n",
       "      <td>Great taffy</td>\n",
       "      <td>Great taffy at a great price.  There was a wid...</td>\n",
       "      <td>great taffi great price wide assort yummi taff...</td>\n",
       "    </tr>\n",
       "  </tbody>\n",
       "</table>\n",
       "</div>"
      ],
      "text/plain": [
       "   Id   ProductId          UserId                      ProfileName  \\\n",
       "0   1  B001E4KFG0  A3SGXH7AUHU8GW                       delmartian   \n",
       "1   2  B00813GRG4  A1D87F6ZCVE5NK                           dll pa   \n",
       "2   3  B000LQOCH0   ABXLMWJIXXAIN  Natalia Corres \"Natalia Corres\"   \n",
       "3   4  B000UA0QIQ  A395BORC6FGVXV                             Karl   \n",
       "4   5  B006K2ZZ7K  A1UQRSCLF8GW1T    Michael D. Bigham \"M. Wassir\"   \n",
       "\n",
       "   HelpfulnessNumerator  HelpfulnessDenominator  Score        Time  \\\n",
       "0                     1                       1      1  1303862400   \n",
       "1                     0                       0      0  1346976000   \n",
       "2                     1                       1      1  1219017600   \n",
       "3                     3                       3      0  1307923200   \n",
       "4                     0                       0      1  1350777600   \n",
       "\n",
       "                 Summary                                               Text  \\\n",
       "0  Good Quality Dog Food  I have bought several of the Vitality canned d...   \n",
       "1      Not as Advertised  Product arrived labeled as Jumbo Salted Peanut...   \n",
       "2  \"Delight\" says it all  This is a confection that has been around a fe...   \n",
       "3         Cough Medicine  If you are looking for the secret ingredient i...   \n",
       "4            Great taffy  Great taffy at a great price.  There was a wid...   \n",
       "\n",
       "                                         CleanedText  \n",
       "0  bought sever vital can dog food product found ...  \n",
       "1  product arriv label jumbo salt peanut peanut a...  \n",
       "2  confect around centuri light pillowi citrus ge...  \n",
       "3  look secret ingredi robitussin believ found go...  \n",
       "4  great taffi great price wide assort yummi taff...  "
      ]
     },
     "execution_count": 2,
     "metadata": {},
     "output_type": "execute_result"
    }
   ],
   "source": [
    "conn = sqlite3.connect('../8. Amazon_New/final.sqlite')\n",
    "final = pd.read_sql_query(\"\"\"SELECT * FROM Reviews\"\"\", conn)\n",
    "conn.close()\n",
    "final.head()"
   ]
  },
  {
   "cell_type": "markdown",
   "metadata": {},
   "source": [
    "### Read the list_of_sent created during EDA and cleaning"
   ]
  },
  {
   "cell_type": "code",
   "execution_count": 3,
   "metadata": {},
   "outputs": [],
   "source": [
    "with open('../8. Amazon_New/list_of_sent_for_input_to_w2v.pkl', 'rb') as pickle_file:\n",
    "    list_of_sent = pickle.load(pickle_file)"
   ]
  },
  {
   "cell_type": "markdown",
   "metadata": {},
   "source": [
    "#### Training the Word2Vec model for words with min count 5¶\n",
    "Reference for intuition - https://www.tensorflow.org/tutorials/word2vec"
   ]
  },
  {
   "cell_type": "code",
   "execution_count": 4,
   "metadata": {},
   "outputs": [],
   "source": [
    "## size is the no of dimensions\n",
    "## min_count specifies the min no of times a word needs to occur to be included in the model\n",
    "## workers is the number of cores on your PC\n",
    "w2v_model=gensim.models.Word2Vec(list_of_sent,min_count=5,size=100, workers=-1)"
   ]
  },
  {
   "cell_type": "markdown",
   "metadata": {},
   "source": [
    "## Function to calculate Avg Word2Vec"
   ]
  },
  {
   "cell_type": "code",
   "execution_count": 5,
   "metadata": {},
   "outputs": [],
   "source": [
    "def calc_avg_w2v(list_of_sent, w2v_model):\n",
    "    '''This function takes in 2 parameters as follows:\n",
    "       1. list_of_sent - This is the list of sentences/reviews for which sentence vetors are to be constructed\n",
    "       2. w2v_model - This is the Word2Vec model which is trained on the working corpus - contains the word vectors\n",
    "       \n",
    "       Return Value:\n",
    "       sent_vectors - This is a list of sentence/review vectors constructed by averaging the word vectors\n",
    "    '''\n",
    "    \n",
    "    ## Initialize an empty list\n",
    "    sent_vectors = []\n",
    "    \n",
    "    ## Consider one sentence/review at a time\n",
    "    for sent in list_of_sent:\n",
    "        ## Initialize sentence vector to 0\n",
    "        ## Note: Size of the vector must match the no. of dimensions used in word2vec model\n",
    "        sent_vec = np.zeros(100)\n",
    "        \n",
    "        ## Initialize count of words to 0\n",
    "        cnt_words = 0\n",
    "        \n",
    "        ## Consider the words one by one\n",
    "        for word in sent:\n",
    "            try:\n",
    "                ## Calculate the word vector using the W2V model\n",
    "                vec = w2v_model.wv[word]\n",
    "                ## Add the word vector to the sentence vector (This is the numerator)\n",
    "                sent_vec += vec\n",
    "                ## Sum all the word counts (This is the denominator)\n",
    "                cnt_words += 1\n",
    "            except:\n",
    "                pass\n",
    "        ## Divide the numerator by the denominator to get the sentence vector\n",
    "        sent_vec /= cnt_words\n",
    "        ## Add the sentence vector in the final list\n",
    "        sent_vectors.append(sent_vec)\n",
    "    ## return the list of all the sentence vectors\n",
    "    return sent_vectors"
   ]
  },
  {
   "cell_type": "code",
   "execution_count": 6,
   "metadata": {},
   "outputs": [
    {
     "name": "stderr",
     "output_type": "stream",
     "text": [
      "C:\\ProgramData\\Anaconda3\\lib\\site-packages\\ipykernel_launcher.py:34: RuntimeWarning: invalid value encountered in true_divide\n"
     ]
    },
    {
     "name": "stdout",
     "output_type": "stream",
     "text": [
      "Time taken in minutes 6.315929635365804\n"
     ]
    }
   ],
   "source": [
    "start = time.time()\n",
    "sent_vectors = calc_avg_w2v(list_of_sent, w2v_model)\n",
    "end = time.time()\n",
    "print(\"Time taken in minutes\", (end - start)/60)"
   ]
  },
  {
   "cell_type": "code",
   "execution_count": 7,
   "metadata": {},
   "outputs": [
    {
     "data": {
      "text/plain": [
       "(363857, 100)"
      ]
     },
     "execution_count": 7,
     "metadata": {},
     "output_type": "execute_result"
    }
   ],
   "source": [
    "len(sent_vectors), len(sent_vectors[0])"
   ]
  },
  {
   "cell_type": "markdown",
   "metadata": {},
   "source": [
    "### Convert the list of vectors into a pandas dataframe"
   ]
  },
  {
   "cell_type": "code",
   "execution_count": 8,
   "metadata": {},
   "outputs": [
    {
     "data": {
      "text/html": [
       "<div>\n",
       "<style scoped>\n",
       "    .dataframe tbody tr th:only-of-type {\n",
       "        vertical-align: middle;\n",
       "    }\n",
       "\n",
       "    .dataframe tbody tr th {\n",
       "        vertical-align: top;\n",
       "    }\n",
       "\n",
       "    .dataframe thead th {\n",
       "        text-align: right;\n",
       "    }\n",
       "</style>\n",
       "<table border=\"1\" class=\"dataframe\">\n",
       "  <thead>\n",
       "    <tr style=\"text-align: right;\">\n",
       "      <th></th>\n",
       "      <th>0</th>\n",
       "      <th>1</th>\n",
       "      <th>2</th>\n",
       "      <th>3</th>\n",
       "      <th>4</th>\n",
       "      <th>5</th>\n",
       "      <th>6</th>\n",
       "      <th>7</th>\n",
       "      <th>8</th>\n",
       "      <th>9</th>\n",
       "      <th>...</th>\n",
       "      <th>90</th>\n",
       "      <th>91</th>\n",
       "      <th>92</th>\n",
       "      <th>93</th>\n",
       "      <th>94</th>\n",
       "      <th>95</th>\n",
       "      <th>96</th>\n",
       "      <th>97</th>\n",
       "      <th>98</th>\n",
       "      <th>99</th>\n",
       "    </tr>\n",
       "  </thead>\n",
       "  <tbody>\n",
       "    <tr>\n",
       "      <th>0</th>\n",
       "      <td>0.000259</td>\n",
       "      <td>-0.000751</td>\n",
       "      <td>-0.000748</td>\n",
       "      <td>-0.000374</td>\n",
       "      <td>-1.501639e-04</td>\n",
       "      <td>0.000411</td>\n",
       "      <td>-0.000586</td>\n",
       "      <td>-0.000581</td>\n",
       "      <td>-0.000114</td>\n",
       "      <td>0.000172</td>\n",
       "      <td>...</td>\n",
       "      <td>0.000520</td>\n",
       "      <td>0.001162</td>\n",
       "      <td>-0.000357</td>\n",
       "      <td>0.000529</td>\n",
       "      <td>0.000032</td>\n",
       "      <td>-0.001473</td>\n",
       "      <td>-0.000739</td>\n",
       "      <td>0.000567</td>\n",
       "      <td>0.000077</td>\n",
       "      <td>-0.000247</td>\n",
       "    </tr>\n",
       "    <tr>\n",
       "      <th>1</th>\n",
       "      <td>-0.000434</td>\n",
       "      <td>-0.000811</td>\n",
       "      <td>-0.000629</td>\n",
       "      <td>-0.000447</td>\n",
       "      <td>-9.322769e-04</td>\n",
       "      <td>0.000256</td>\n",
       "      <td>-0.000445</td>\n",
       "      <td>0.000255</td>\n",
       "      <td>0.001147</td>\n",
       "      <td>-0.000252</td>\n",
       "      <td>...</td>\n",
       "      <td>0.000776</td>\n",
       "      <td>0.001365</td>\n",
       "      <td>-0.000479</td>\n",
       "      <td>-0.000189</td>\n",
       "      <td>-0.000204</td>\n",
       "      <td>0.000219</td>\n",
       "      <td>-0.000243</td>\n",
       "      <td>0.000957</td>\n",
       "      <td>0.000663</td>\n",
       "      <td>0.000200</td>\n",
       "    </tr>\n",
       "    <tr>\n",
       "      <th>2</th>\n",
       "      <td>-0.000151</td>\n",
       "      <td>-0.000240</td>\n",
       "      <td>0.000558</td>\n",
       "      <td>0.000226</td>\n",
       "      <td>-9.000337e-07</td>\n",
       "      <td>-0.000329</td>\n",
       "      <td>0.000339</td>\n",
       "      <td>0.000258</td>\n",
       "      <td>-0.000401</td>\n",
       "      <td>-0.000395</td>\n",
       "      <td>...</td>\n",
       "      <td>-0.000169</td>\n",
       "      <td>0.000004</td>\n",
       "      <td>-0.001119</td>\n",
       "      <td>0.000215</td>\n",
       "      <td>-0.000136</td>\n",
       "      <td>-0.000102</td>\n",
       "      <td>0.000343</td>\n",
       "      <td>0.000450</td>\n",
       "      <td>0.000013</td>\n",
       "      <td>0.000013</td>\n",
       "    </tr>\n",
       "    <tr>\n",
       "      <th>3</th>\n",
       "      <td>0.000845</td>\n",
       "      <td>-0.000374</td>\n",
       "      <td>0.001090</td>\n",
       "      <td>0.000198</td>\n",
       "      <td>8.958358e-04</td>\n",
       "      <td>0.000382</td>\n",
       "      <td>-0.000798</td>\n",
       "      <td>0.000346</td>\n",
       "      <td>0.000130</td>\n",
       "      <td>-0.000599</td>\n",
       "      <td>...</td>\n",
       "      <td>0.000758</td>\n",
       "      <td>-0.000484</td>\n",
       "      <td>0.000390</td>\n",
       "      <td>-0.000317</td>\n",
       "      <td>0.001358</td>\n",
       "      <td>0.000221</td>\n",
       "      <td>-0.000048</td>\n",
       "      <td>0.001221</td>\n",
       "      <td>-0.000456</td>\n",
       "      <td>0.001199</td>\n",
       "    </tr>\n",
       "    <tr>\n",
       "      <th>4</th>\n",
       "      <td>0.000567</td>\n",
       "      <td>0.000302</td>\n",
       "      <td>-0.000160</td>\n",
       "      <td>0.000159</td>\n",
       "      <td>3.146202e-04</td>\n",
       "      <td>0.000496</td>\n",
       "      <td>-0.000774</td>\n",
       "      <td>0.000571</td>\n",
       "      <td>-0.000779</td>\n",
       "      <td>0.001832</td>\n",
       "      <td>...</td>\n",
       "      <td>0.000672</td>\n",
       "      <td>-0.001043</td>\n",
       "      <td>0.000576</td>\n",
       "      <td>0.000166</td>\n",
       "      <td>-0.001239</td>\n",
       "      <td>-0.001447</td>\n",
       "      <td>0.001002</td>\n",
       "      <td>0.000983</td>\n",
       "      <td>-0.000194</td>\n",
       "      <td>0.002012</td>\n",
       "    </tr>\n",
       "  </tbody>\n",
       "</table>\n",
       "<p>5 rows × 100 columns</p>\n",
       "</div>"
      ],
      "text/plain": [
       "         0         1         2         3             4         5         6   \\\n",
       "0  0.000259 -0.000751 -0.000748 -0.000374 -1.501639e-04  0.000411 -0.000586   \n",
       "1 -0.000434 -0.000811 -0.000629 -0.000447 -9.322769e-04  0.000256 -0.000445   \n",
       "2 -0.000151 -0.000240  0.000558  0.000226 -9.000337e-07 -0.000329  0.000339   \n",
       "3  0.000845 -0.000374  0.001090  0.000198  8.958358e-04  0.000382 -0.000798   \n",
       "4  0.000567  0.000302 -0.000160  0.000159  3.146202e-04  0.000496 -0.000774   \n",
       "\n",
       "         7         8         9     ...           90        91        92  \\\n",
       "0 -0.000581 -0.000114  0.000172    ...     0.000520  0.001162 -0.000357   \n",
       "1  0.000255  0.001147 -0.000252    ...     0.000776  0.001365 -0.000479   \n",
       "2  0.000258 -0.000401 -0.000395    ...    -0.000169  0.000004 -0.001119   \n",
       "3  0.000346  0.000130 -0.000599    ...     0.000758 -0.000484  0.000390   \n",
       "4  0.000571 -0.000779  0.001832    ...     0.000672 -0.001043  0.000576   \n",
       "\n",
       "         93        94        95        96        97        98        99  \n",
       "0  0.000529  0.000032 -0.001473 -0.000739  0.000567  0.000077 -0.000247  \n",
       "1 -0.000189 -0.000204  0.000219 -0.000243  0.000957  0.000663  0.000200  \n",
       "2  0.000215 -0.000136 -0.000102  0.000343  0.000450  0.000013  0.000013  \n",
       "3 -0.000317  0.001358  0.000221 -0.000048  0.001221 -0.000456  0.001199  \n",
       "4  0.000166 -0.001239 -0.001447  0.001002  0.000983 -0.000194  0.002012  \n",
       "\n",
       "[5 rows x 100 columns]"
      ]
     },
     "execution_count": 8,
     "metadata": {},
     "output_type": "execute_result"
    }
   ],
   "source": [
    "data = pd.DataFrame(sent_vectors)\n",
    "data.head()"
   ]
  },
  {
   "cell_type": "code",
   "execution_count": 10,
   "metadata": {},
   "outputs": [
    {
     "data": {
      "text/html": [
       "<div>\n",
       "<style scoped>\n",
       "    .dataframe tbody tr th:only-of-type {\n",
       "        vertical-align: middle;\n",
       "    }\n",
       "\n",
       "    .dataframe tbody tr th {\n",
       "        vertical-align: top;\n",
       "    }\n",
       "\n",
       "    .dataframe thead th {\n",
       "        text-align: right;\n",
       "    }\n",
       "</style>\n",
       "<table border=\"1\" class=\"dataframe\">\n",
       "  <thead>\n",
       "    <tr style=\"text-align: right;\">\n",
       "      <th></th>\n",
       "      <th>Time</th>\n",
       "      <th>Score</th>\n",
       "      <th>0</th>\n",
       "      <th>1</th>\n",
       "      <th>2</th>\n",
       "      <th>3</th>\n",
       "      <th>4</th>\n",
       "      <th>5</th>\n",
       "      <th>6</th>\n",
       "      <th>7</th>\n",
       "      <th>...</th>\n",
       "      <th>90</th>\n",
       "      <th>91</th>\n",
       "      <th>92</th>\n",
       "      <th>93</th>\n",
       "      <th>94</th>\n",
       "      <th>95</th>\n",
       "      <th>96</th>\n",
       "      <th>97</th>\n",
       "      <th>98</th>\n",
       "      <th>99</th>\n",
       "    </tr>\n",
       "  </thead>\n",
       "  <tbody>\n",
       "    <tr>\n",
       "      <th>117879</th>\n",
       "      <td>939340800</td>\n",
       "      <td>1</td>\n",
       "      <td>0.000171</td>\n",
       "      <td>-0.000080</td>\n",
       "      <td>-0.001002</td>\n",
       "      <td>-0.000950</td>\n",
       "      <td>0.000187</td>\n",
       "      <td>-0.000012</td>\n",
       "      <td>-0.000667</td>\n",
       "      <td>0.000923</td>\n",
       "      <td>...</td>\n",
       "      <td>0.000083</td>\n",
       "      <td>-0.000208</td>\n",
       "      <td>-0.000245</td>\n",
       "      <td>0.000198</td>\n",
       "      <td>-0.000947</td>\n",
       "      <td>0.000516</td>\n",
       "      <td>-0.000865</td>\n",
       "      <td>0.000754</td>\n",
       "      <td>-0.001326</td>\n",
       "      <td>-0.000647</td>\n",
       "    </tr>\n",
       "    <tr>\n",
       "      <th>117856</th>\n",
       "      <td>940809600</td>\n",
       "      <td>1</td>\n",
       "      <td>-0.000936</td>\n",
       "      <td>-0.000151</td>\n",
       "      <td>-0.000028</td>\n",
       "      <td>-0.000638</td>\n",
       "      <td>-0.000374</td>\n",
       "      <td>0.000046</td>\n",
       "      <td>-0.000398</td>\n",
       "      <td>0.000270</td>\n",
       "      <td>...</td>\n",
       "      <td>0.000473</td>\n",
       "      <td>0.000693</td>\n",
       "      <td>0.000530</td>\n",
       "      <td>-0.000447</td>\n",
       "      <td>0.000441</td>\n",
       "      <td>0.000417</td>\n",
       "      <td>-0.000808</td>\n",
       "      <td>0.000202</td>\n",
       "      <td>-0.000947</td>\n",
       "      <td>-0.000455</td>\n",
       "    </tr>\n",
       "    <tr>\n",
       "      <th>298565</th>\n",
       "      <td>944092800</td>\n",
       "      <td>1</td>\n",
       "      <td>0.001327</td>\n",
       "      <td>-0.000512</td>\n",
       "      <td>0.000280</td>\n",
       "      <td>-0.001338</td>\n",
       "      <td>0.001250</td>\n",
       "      <td>-0.000702</td>\n",
       "      <td>-0.000432</td>\n",
       "      <td>0.000704</td>\n",
       "      <td>...</td>\n",
       "      <td>-0.000245</td>\n",
       "      <td>0.000095</td>\n",
       "      <td>0.000893</td>\n",
       "      <td>-0.001073</td>\n",
       "      <td>0.000095</td>\n",
       "      <td>0.001572</td>\n",
       "      <td>0.001341</td>\n",
       "      <td>-0.000888</td>\n",
       "      <td>-0.000287</td>\n",
       "      <td>-0.000228</td>\n",
       "    </tr>\n",
       "    <tr>\n",
       "      <th>169198</th>\n",
       "      <td>944438400</td>\n",
       "      <td>1</td>\n",
       "      <td>-0.000982</td>\n",
       "      <td>0.000160</td>\n",
       "      <td>0.000811</td>\n",
       "      <td>0.001567</td>\n",
       "      <td>0.000110</td>\n",
       "      <td>-0.001962</td>\n",
       "      <td>0.000968</td>\n",
       "      <td>-0.000327</td>\n",
       "      <td>...</td>\n",
       "      <td>-0.000928</td>\n",
       "      <td>-0.000566</td>\n",
       "      <td>-0.000189</td>\n",
       "      <td>-0.000437</td>\n",
       "      <td>-0.000608</td>\n",
       "      <td>-0.000999</td>\n",
       "      <td>-0.000540</td>\n",
       "      <td>-0.000796</td>\n",
       "      <td>-0.000433</td>\n",
       "      <td>0.000434</td>\n",
       "    </tr>\n",
       "    <tr>\n",
       "      <th>298564</th>\n",
       "      <td>946857600</td>\n",
       "      <td>1</td>\n",
       "      <td>0.000368</td>\n",
       "      <td>0.000831</td>\n",
       "      <td>0.000915</td>\n",
       "      <td>-0.000997</td>\n",
       "      <td>0.000969</td>\n",
       "      <td>-0.000506</td>\n",
       "      <td>-0.000086</td>\n",
       "      <td>0.000879</td>\n",
       "      <td>...</td>\n",
       "      <td>0.000322</td>\n",
       "      <td>0.000485</td>\n",
       "      <td>0.001212</td>\n",
       "      <td>-0.001395</td>\n",
       "      <td>-0.001230</td>\n",
       "      <td>0.001240</td>\n",
       "      <td>-0.000149</td>\n",
       "      <td>-0.001578</td>\n",
       "      <td>-0.000993</td>\n",
       "      <td>0.000077</td>\n",
       "    </tr>\n",
       "  </tbody>\n",
       "</table>\n",
       "<p>5 rows × 102 columns</p>\n",
       "</div>"
      ],
      "text/plain": [
       "             Time  Score         0         1         2         3         4  \\\n",
       "117879  939340800      1  0.000171 -0.000080 -0.001002 -0.000950  0.000187   \n",
       "117856  940809600      1 -0.000936 -0.000151 -0.000028 -0.000638 -0.000374   \n",
       "298565  944092800      1  0.001327 -0.000512  0.000280 -0.001338  0.001250   \n",
       "169198  944438400      1 -0.000982  0.000160  0.000811  0.001567  0.000110   \n",
       "298564  946857600      1  0.000368  0.000831  0.000915 -0.000997  0.000969   \n",
       "\n",
       "               5         6         7    ...           90        91        92  \\\n",
       "117879 -0.000012 -0.000667  0.000923    ...     0.000083 -0.000208 -0.000245   \n",
       "117856  0.000046 -0.000398  0.000270    ...     0.000473  0.000693  0.000530   \n",
       "298565 -0.000702 -0.000432  0.000704    ...    -0.000245  0.000095  0.000893   \n",
       "169198 -0.001962  0.000968 -0.000327    ...    -0.000928 -0.000566 -0.000189   \n",
       "298564 -0.000506 -0.000086  0.000879    ...     0.000322  0.000485  0.001212   \n",
       "\n",
       "              93        94        95        96        97        98        99  \n",
       "117879  0.000198 -0.000947  0.000516 -0.000865  0.000754 -0.001326 -0.000647  \n",
       "117856 -0.000447  0.000441  0.000417 -0.000808  0.000202 -0.000947 -0.000455  \n",
       "298565 -0.001073  0.000095  0.001572  0.001341 -0.000888 -0.000287 -0.000228  \n",
       "169198 -0.000437 -0.000608 -0.000999 -0.000540 -0.000796 -0.000433  0.000434  \n",
       "298564 -0.001395 -0.001230  0.001240 -0.000149 -0.001578 -0.000993  0.000077  \n",
       "\n",
       "[5 rows x 102 columns]"
      ]
     },
     "execution_count": 10,
     "metadata": {},
     "output_type": "execute_result"
    }
   ],
   "source": [
    "data = pd.concat([final['Time'], final['Score'], data], axis = 1)\n",
    "data.sort_values('Time', inplace = True)\n",
    "data.head()"
   ]
  },
  {
   "cell_type": "code",
   "execution_count": 11,
   "metadata": {},
   "outputs": [
    {
     "data": {
      "text/plain": [
       "(363857, 102)"
      ]
     },
     "execution_count": 11,
     "metadata": {},
     "output_type": "execute_result"
    }
   ],
   "source": [
    "data.shape"
   ]
  },
  {
   "cell_type": "markdown",
   "metadata": {},
   "source": [
    "### Due to some reasons a few rows might contain NAN values, so delete them"
   ]
  },
  {
   "cell_type": "code",
   "execution_count": 27,
   "metadata": {},
   "outputs": [],
   "source": [
    "data.dropna(inplace = True)"
   ]
  },
  {
   "cell_type": "code",
   "execution_count": 28,
   "metadata": {},
   "outputs": [
    {
     "data": {
      "text/plain": [
       "(363854, 102)"
      ]
     },
     "execution_count": 28,
     "metadata": {},
     "output_type": "execute_result"
    }
   ],
   "source": [
    "data.shape"
   ]
  },
  {
   "cell_type": "code",
   "execution_count": 12,
   "metadata": {},
   "outputs": [],
   "source": [
    "# If you do not require some variables, delete them from your main memory\n",
    "del final"
   ]
  },
  {
   "cell_type": "code",
   "execution_count": 29,
   "metadata": {},
   "outputs": [
    {
     "data": {
      "text/plain": [
       "1    306776\n",
       "0     57078\n",
       "Name: Score, dtype: int64"
      ]
     },
     "execution_count": 29,
     "metadata": {},
     "output_type": "execute_result"
    }
   ],
   "source": [
    "data['Score'].value_counts()"
   ]
  },
  {
   "cell_type": "markdown",
   "metadata": {},
   "source": [
    "### Separate X and y"
   ]
  },
  {
   "cell_type": "code",
   "execution_count": 30,
   "metadata": {},
   "outputs": [],
   "source": [
    "X = X = data.drop(labels=['Time', 'Score'], axis = 1)\n",
    "y = data['Score']"
   ]
  },
  {
   "cell_type": "markdown",
   "metadata": {},
   "source": [
    "### Time based splitting"
   ]
  },
  {
   "cell_type": "code",
   "execution_count": 31,
   "metadata": {},
   "outputs": [],
   "source": [
    "# Perform a 70-30 time based splitting (shuffle = False)\n",
    "X_train, X_test, y_train, y_test = train_test_split(X, y, test_size = 0.3, shuffle = False)"
   ]
  },
  {
   "cell_type": "code",
   "execution_count": 32,
   "metadata": {},
   "outputs": [
    {
     "data": {
      "text/plain": [
       "((254697, 100), (254697,), (109157, 100), (109157,))"
      ]
     },
     "execution_count": 32,
     "metadata": {},
     "output_type": "execute_result"
    }
   ],
   "source": [
    "X_train.shape, y_train.shape, X_test.shape, y_test.shape"
   ]
  },
  {
   "cell_type": "markdown",
   "metadata": {},
   "source": [
    "### Perform Column Standardization"
   ]
  },
  {
   "cell_type": "code",
   "execution_count": 33,
   "metadata": {},
   "outputs": [],
   "source": [
    "std = StandardScaler()\n",
    "X_train = std.fit_transform(X_train)\n",
    "X_test = std.transform(X_test)"
   ]
  },
  {
   "cell_type": "markdown",
   "metadata": {},
   "source": [
    "### Cross validation and Hyper Parameter tuning"
   ]
  },
  {
   "cell_type": "code",
   "execution_count": 34,
   "metadata": {},
   "outputs": [
    {
     "name": "stdout",
     "output_type": "stream",
     "text": [
      "\n",
      "The optimal alpha is 0.6\n",
      "Total time in minutes =  8.3071835398674\n"
     ]
    }
   ],
   "source": [
    "start = time.time()\n",
    "# creating list of C\n",
    "C_values = np.linspace(0.1,1,10)\n",
    "\n",
    "cv_scores = [] # empty list that will hold cv scores\n",
    "\n",
    "# Try each value of alpha in the below loop\n",
    "for c in C_values:\n",
    "    # Create an object of the class Logistic Regression with balanced class weights\n",
    "    clf = LogisticRegression(C = c, class_weight = 'balanced')\n",
    "    # perform 5-fold cross validation\n",
    "    # It returns the cv accuracy for each fold in a list\n",
    "    scores = cross_val_score(clf, X_train, y_train, cv=5, scoring='accuracy')\n",
    "    # Store the mean of the accuracies from all the 5 folds\n",
    "    cv_scores.append(scores.mean())\n",
    "\n",
    "# calculate misclassification error from accuracy (error = 1 - accuracy)\n",
    "cv_error = [1 - x for x in cv_scores]\n",
    "\n",
    "# optimal (best) C is the one for which error is minimum (or accuracy is maximum)\n",
    "optimal_C = C_values[cv_error.index(min(cv_error))]\n",
    "print('\\nThe optimal alpha is', optimal_C)\n",
    "\n",
    "end = time.time()\n",
    "print(\"Total time in minutes = \", (end-start)/60)"
   ]
  },
  {
   "cell_type": "code",
   "execution_count": 35,
   "metadata": {},
   "outputs": [
    {
     "data": {
      "image/png": "[encoded data removed]",
      "text/plain": [
       "<Figure size 432x288 with 1 Axes>"
      ]
     },
     "metadata": {},
     "output_type": "display_data"
    }
   ],
   "source": [
    "# plot misclassification error vs C\n",
    "plt.plot(C_values, cv_error)\n",
    "plt.xlabel('C')\n",
    "plt.ylabel('Misclassification Error')\n",
    "plt.show()"
   ]
  },
  {
   "cell_type": "code",
   "execution_count": 36,
   "metadata": {},
   "outputs": [
    {
     "name": "stdout",
     "output_type": "stream",
     "text": [
      "Accuracy = 83.00979323359931\n"
     ]
    },
    {
     "data": {
      "text/plain": [
       "array([[ 1441, 17625],\n",
       "       [  921, 89170]], dtype=int64)"
      ]
     },
     "execution_count": 36,
     "metadata": {},
     "output_type": "execute_result"
    }
   ],
   "source": [
    "clf = LogisticRegression(C = optimal_C)\n",
    "clf.fit(X_train, y_train)\n",
    "y_pred = clf.predict(X_test)\n",
    "acc = accuracy_score(y_test, y_pred) * 100\n",
    "print(\"Accuracy =\", acc)\n",
    "confusion_matrix(y_test, y_pred)"
   ]
  },
  {
   "cell_type": "markdown",
   "metadata": {},
   "source": [
    "### Feature Selection is not easy if we use the Word2Vec vectorization technique as we are mapping our features in some transformed space"
   ]
  },
  {
   "cell_type": "code",
   "execution_count": null,
   "metadata": {},
   "outputs": [],
   "source": []
  }
 ],
 "metadata": {
  "kernelspec": {
   "display_name": "Python 3",
   "language": "python",
   "name": "python3"
  },
  "language_info": {
   "codemirror_mode": {
    "name": "ipython",
    "version": 3
   },
   "file_extension": ".py",
   "mimetype": "text/x-python",
   "name": "python",
   "nbconvert_exporter": "python",
   "pygments_lexer": "ipython3",
   "version": "3.6.5"
  }
 },
 "nbformat": 4,
 "nbformat_minor": 2
}
