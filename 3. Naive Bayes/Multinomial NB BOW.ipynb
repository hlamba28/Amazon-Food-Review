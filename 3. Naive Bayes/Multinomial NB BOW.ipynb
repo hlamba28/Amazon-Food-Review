{
 "cells": [
  {
   "cell_type": "code",
   "execution_count": 1,
   "metadata": {},
   "outputs": [],
   "source": [
    "import numpy as np\n",
    "import pandas as pd\n",
    "import matplotlib.pyplot as plt\n",
    "\n",
    "import sqlite3    ## SQL Interface\n",
    "import pickle     ## Used to save your data - Converts objects to byte stream and vice versa\n",
    "import time\n",
    "\n",
    "from sklearn.feature_extraction.text import CountVectorizer, TfidfVectorizer\n",
    "\n",
    "from sklearn.naive_bayes import BernoulliNB, MultinomialNB\n",
    "\n",
    "from sklearn.metrics import accuracy_score, confusion_matrix\n",
    "from sklearn.model_selection import train_test_split, cross_val_score"
   ]
  },
  {
   "cell_type": "markdown",
   "metadata": {},
   "source": [
    "### Read the cleaned sqlite file"
   ]
  },
  {
   "cell_type": "code",
   "execution_count": 2,
   "metadata": {},
   "outputs": [
    {
     "data": {
      "text/html": [
       "<div>\n",
       "<style scoped>\n",
       "    .dataframe tbody tr th:only-of-type {\n",
       "        vertical-align: middle;\n",
       "    }\n",
       "\n",
       "    .dataframe tbody tr th {\n",
       "        vertical-align: top;\n",
       "    }\n",
       "\n",
       "    .dataframe thead th {\n",
       "        text-align: right;\n",
       "    }\n",
       "</style>\n",
       "<table border=\"1\" class=\"dataframe\">\n",
       "  <thead>\n",
       "    <tr style=\"text-align: right;\">\n",
       "      <th></th>\n",
       "      <th>Id</th>\n",
       "      <th>ProductId</th>\n",
       "      <th>UserId</th>\n",
       "      <th>ProfileName</th>\n",
       "      <th>HelpfulnessNumerator</th>\n",
       "      <th>HelpfulnessDenominator</th>\n",
       "      <th>Score</th>\n",
       "      <th>Time</th>\n",
       "      <th>Summary</th>\n",
       "      <th>Text</th>\n",
       "      <th>CleanedText</th>\n",
       "    </tr>\n",
       "  </thead>\n",
       "  <tbody>\n",
       "    <tr>\n",
       "      <th>0</th>\n",
       "      <td>1</td>\n",
       "      <td>B001E4KFG0</td>\n",
       "      <td>A3SGXH7AUHU8GW</td>\n",
       "      <td>delmartian</td>\n",
       "      <td>1</td>\n",
       "      <td>1</td>\n",
       "      <td>1</td>\n",
       "      <td>1303862400</td>\n",
       "      <td>Good Quality Dog Food</td>\n",
       "      <td>I have bought several of the Vitality canned d...</td>\n",
       "      <td>bought sever vital can dog food product found ...</td>\n",
       "    </tr>\n",
       "    <tr>\n",
       "      <th>1</th>\n",
       "      <td>2</td>\n",
       "      <td>B00813GRG4</td>\n",
       "      <td>A1D87F6ZCVE5NK</td>\n",
       "      <td>dll pa</td>\n",
       "      <td>0</td>\n",
       "      <td>0</td>\n",
       "      <td>0</td>\n",
       "      <td>1346976000</td>\n",
       "      <td>Not as Advertised</td>\n",
       "      <td>Product arrived labeled as Jumbo Salted Peanut...</td>\n",
       "      <td>product arriv label jumbo salt peanut peanut a...</td>\n",
       "    </tr>\n",
       "    <tr>\n",
       "      <th>2</th>\n",
       "      <td>3</td>\n",
       "      <td>B000LQOCH0</td>\n",
       "      <td>ABXLMWJIXXAIN</td>\n",
       "      <td>Natalia Corres \"Natalia Corres\"</td>\n",
       "      <td>1</td>\n",
       "      <td>1</td>\n",
       "      <td>1</td>\n",
       "      <td>1219017600</td>\n",
       "      <td>\"Delight\" says it all</td>\n",
       "      <td>This is a confection that has been around a fe...</td>\n",
       "      <td>confect around centuri light pillowi citrus ge...</td>\n",
       "    </tr>\n",
       "    <tr>\n",
       "      <th>3</th>\n",
       "      <td>4</td>\n",
       "      <td>B000UA0QIQ</td>\n",
       "      <td>A395BORC6FGVXV</td>\n",
       "      <td>Karl</td>\n",
       "      <td>3</td>\n",
       "      <td>3</td>\n",
       "      <td>0</td>\n",
       "      <td>1307923200</td>\n",
       "      <td>Cough Medicine</td>\n",
       "      <td>If you are looking for the secret ingredient i...</td>\n",
       "      <td>look secret ingredi robitussin believ found go...</td>\n",
       "    </tr>\n",
       "    <tr>\n",
       "      <th>4</th>\n",
       "      <td>5</td>\n",
       "      <td>B006K2ZZ7K</td>\n",
       "      <td>A1UQRSCLF8GW1T</td>\n",
       "      <td>Michael D. Bigham \"M. Wassir\"</td>\n",
       "      <td>0</td>\n",
       "      <td>0</td>\n",
       "      <td>1</td>\n",
       "      <td>1350777600</td>\n",
       "      <td>Great taffy</td>\n",
       "      <td>Great taffy at a great price.  There was a wid...</td>\n",
       "      <td>great taffi great price wide assort yummi taff...</td>\n",
       "    </tr>\n",
       "  </tbody>\n",
       "</table>\n",
       "</div>"
      ],
      "text/plain": [
       "   Id   ProductId          UserId                      ProfileName  \\\n",
       "0   1  B001E4KFG0  A3SGXH7AUHU8GW                       delmartian   \n",
       "1   2  B00813GRG4  A1D87F6ZCVE5NK                           dll pa   \n",
       "2   3  B000LQOCH0   ABXLMWJIXXAIN  Natalia Corres \"Natalia Corres\"   \n",
       "3   4  B000UA0QIQ  A395BORC6FGVXV                             Karl   \n",
       "4   5  B006K2ZZ7K  A1UQRSCLF8GW1T    Michael D. Bigham \"M. Wassir\"   \n",
       "\n",
       "   HelpfulnessNumerator  HelpfulnessDenominator  Score        Time  \\\n",
       "0                     1                       1      1  1303862400   \n",
       "1                     0                       0      0  1346976000   \n",
       "2                     1                       1      1  1219017600   \n",
       "3                     3                       3      0  1307923200   \n",
       "4                     0                       0      1  1350777600   \n",
       "\n",
       "                 Summary                                               Text  \\\n",
       "0  Good Quality Dog Food  I have bought several of the Vitality canned d...   \n",
       "1      Not as Advertised  Product arrived labeled as Jumbo Salted Peanut...   \n",
       "2  \"Delight\" says it all  This is a confection that has been around a fe...   \n",
       "3         Cough Medicine  If you are looking for the secret ingredient i...   \n",
       "4            Great taffy  Great taffy at a great price.  There was a wid...   \n",
       "\n",
       "                                         CleanedText  \n",
       "0  bought sever vital can dog food product found ...  \n",
       "1  product arriv label jumbo salt peanut peanut a...  \n",
       "2  confect around centuri light pillowi citrus ge...  \n",
       "3  look secret ingredi robitussin believ found go...  \n",
       "4  great taffi great price wide assort yummi taff...  "
      ]
     },
     "execution_count": 2,
     "metadata": {},
     "output_type": "execute_result"
    }
   ],
   "source": [
    "conn = sqlite3.connect('../8. Amazon_New/final.sqlite')\n",
    "final = pd.read_sql_query(\"\"\"SELECT * FROM Reviews\"\"\", conn)\n",
    "conn.close()\n",
    "final.head()"
   ]
  },
  {
   "cell_type": "markdown",
   "metadata": {},
   "source": [
    "### NB runs quickly, so we use the entire dataset"
   ]
  },
  {
   "cell_type": "code",
   "execution_count": 4,
   "metadata": {},
   "outputs": [
    {
     "data": {
      "text/html": [
       "<div>\n",
       "<style scoped>\n",
       "    .dataframe tbody tr th:only-of-type {\n",
       "        vertical-align: middle;\n",
       "    }\n",
       "\n",
       "    .dataframe tbody tr th {\n",
       "        vertical-align: top;\n",
       "    }\n",
       "\n",
       "    .dataframe thead th {\n",
       "        text-align: right;\n",
       "    }\n",
       "</style>\n",
       "<table border=\"1\" class=\"dataframe\">\n",
       "  <thead>\n",
       "    <tr style=\"text-align: right;\">\n",
       "      <th></th>\n",
       "      <th>Score</th>\n",
       "      <th>Time</th>\n",
       "      <th>CleanedText</th>\n",
       "    </tr>\n",
       "  </thead>\n",
       "  <tbody>\n",
       "    <tr>\n",
       "      <th>117879</th>\n",
       "      <td>1</td>\n",
       "      <td>939340800</td>\n",
       "      <td>witti littl book make son laugh loud recit car...</td>\n",
       "    </tr>\n",
       "    <tr>\n",
       "      <th>117856</th>\n",
       "      <td>1</td>\n",
       "      <td>940809600</td>\n",
       "      <td>rememb see show air televis year ago child sis...</td>\n",
       "    </tr>\n",
       "    <tr>\n",
       "      <th>298565</th>\n",
       "      <td>1</td>\n",
       "      <td>944092800</td>\n",
       "      <td>beetlejuic well written movi everyth excel act...</td>\n",
       "    </tr>\n",
       "    <tr>\n",
       "      <th>169198</th>\n",
       "      <td>1</td>\n",
       "      <td>944438400</td>\n",
       "      <td>twist rumplestiskin captur film star michael k...</td>\n",
       "    </tr>\n",
       "    <tr>\n",
       "      <th>298564</th>\n",
       "      <td>1</td>\n",
       "      <td>946857600</td>\n",
       "      <td>beetlejuic excel funni movi keaton hilari wack...</td>\n",
       "    </tr>\n",
       "    <tr>\n",
       "      <th>169259</th>\n",
       "      <td>1</td>\n",
       "      <td>947376000</td>\n",
       "      <td>one movi movi collect fill comedi action whate...</td>\n",
       "    </tr>\n",
       "    <tr>\n",
       "      <th>169184</th>\n",
       "      <td>0</td>\n",
       "      <td>948240000</td>\n",
       "      <td>alway enjoy movi funni entertain hesit pick cl...</td>\n",
       "    </tr>\n",
       "    <tr>\n",
       "      <th>63292</th>\n",
       "      <td>1</td>\n",
       "      <td>948672000</td>\n",
       "      <td>bought apart infest fruit fli hour trap quot a...</td>\n",
       "    </tr>\n",
       "    <tr>\n",
       "      <th>169284</th>\n",
       "      <td>1</td>\n",
       "      <td>951523200</td>\n",
       "      <td>happen say name three time michael keaten star...</td>\n",
       "    </tr>\n",
       "    <tr>\n",
       "      <th>298566</th>\n",
       "      <td>1</td>\n",
       "      <td>959990400</td>\n",
       "      <td>get crazi realli imposs today find french vhs ...</td>\n",
       "    </tr>\n",
       "  </tbody>\n",
       "</table>\n",
       "</div>"
      ],
      "text/plain": [
       "        Score       Time                                        CleanedText\n",
       "117879      1  939340800  witti littl book make son laugh loud recit car...\n",
       "117856      1  940809600  rememb see show air televis year ago child sis...\n",
       "298565      1  944092800  beetlejuic well written movi everyth excel act...\n",
       "169198      1  944438400  twist rumplestiskin captur film star michael k...\n",
       "298564      1  946857600  beetlejuic excel funni movi keaton hilari wack...\n",
       "169259      1  947376000  one movi movi collect fill comedi action whate...\n",
       "169184      0  948240000  alway enjoy movi funni entertain hesit pick cl...\n",
       "63292       1  948672000  bought apart infest fruit fli hour trap quot a...\n",
       "169284      1  951523200  happen say name three time michael keaten star...\n",
       "298566      1  959990400  get crazi realli imposs today find french vhs ..."
      ]
     },
     "execution_count": 4,
     "metadata": {},
     "output_type": "execute_result"
    }
   ],
   "source": [
    "data = final[['Score', 'Time', 'CleanedText']].copy()\n",
    "data.sort_values('Time', inplace = True)\n",
    "data.head(10)"
   ]
  },
  {
   "cell_type": "markdown",
   "metadata": {},
   "source": [
    "### Remember Dataset is not balanced"
   ]
  },
  {
   "cell_type": "code",
   "execution_count": 5,
   "metadata": {},
   "outputs": [
    {
     "data": {
      "text/plain": [
       "1    306779\n",
       "0     57078\n",
       "Name: Score, dtype: int64"
      ]
     },
     "execution_count": 5,
     "metadata": {},
     "output_type": "execute_result"
    }
   ],
   "source": [
    "data['Score'].value_counts()"
   ]
  },
  {
   "cell_type": "code",
   "execution_count": 8,
   "metadata": {},
   "outputs": [],
   "source": [
    "del final"
   ]
  },
  {
   "cell_type": "markdown",
   "metadata": {},
   "source": [
    "### Separate X and y"
   ]
  },
  {
   "cell_type": "code",
   "execution_count": 9,
   "metadata": {},
   "outputs": [],
   "source": [
    "X = data['CleanedText']\n",
    "y = data['Score']"
   ]
  },
  {
   "cell_type": "markdown",
   "metadata": {},
   "source": [
    "### Time based splitting"
   ]
  },
  {
   "cell_type": "code",
   "execution_count": 10,
   "metadata": {},
   "outputs": [],
   "source": [
    "# Perform a 70-30 time based splitting (shuffle = False)\n",
    "X_train_raw, X_test_raw, y_train, y_test = train_test_split(X, y, test_size = 0.3, shuffle = False)"
   ]
  },
  {
   "cell_type": "code",
   "execution_count": 11,
   "metadata": {},
   "outputs": [
    {
     "data": {
      "text/plain": [
       "((254699,), (254699,), (109158,), (109158,))"
      ]
     },
     "execution_count": 11,
     "metadata": {},
     "output_type": "execute_result"
    }
   ],
   "source": [
    "X_train_raw.shape, y_train.shape, X_test_raw.shape, y_test.shape"
   ]
  },
  {
   "cell_type": "code",
   "execution_count": 12,
   "metadata": {},
   "outputs": [],
   "source": [
    "# Create an object of class CountVectorizer\n",
    "bow = CountVectorizer()\n",
    "# Call the fit_transform method on training data\n",
    "X_train = bow.fit_transform(X_train_raw.values)"
   ]
  },
  {
   "cell_type": "code",
   "execution_count": 13,
   "metadata": {},
   "outputs": [
    {
     "data": {
      "text/plain": [
       "(254699, 63242)"
      ]
     },
     "execution_count": 13,
     "metadata": {},
     "output_type": "execute_result"
    }
   ],
   "source": [
    "X_train.shape"
   ]
  },
  {
   "cell_type": "code",
   "execution_count": 14,
   "metadata": {},
   "outputs": [],
   "source": [
    "# Call the transform method on the test dataset\n",
    "X_test = bow.transform(X_test_raw.values)"
   ]
  },
  {
   "cell_type": "code",
   "execution_count": 15,
   "metadata": {},
   "outputs": [
    {
     "data": {
      "text/plain": [
       "(109158, 63242)"
      ]
     },
     "execution_count": 15,
     "metadata": {},
     "output_type": "execute_result"
    }
   ],
   "source": [
    "X_test.shape"
   ]
  },
  {
   "cell_type": "markdown",
   "metadata": {},
   "source": [
    "### Column Standardization not required in Naive Bayes"
   ]
  },
  {
   "cell_type": "code",
   "execution_count": 19,
   "metadata": {},
   "outputs": [
    {
     "name": "stdout",
     "output_type": "stream",
     "text": [
      "\n",
      "The optimal number of neighbors is 1.0\n",
      "Total time in minutes =  0.9374905188878377\n"
     ]
    }
   ],
   "source": [
    "start = time.time()\n",
    "# creating odd list of alpha for NB\n",
    "alpha = np.linspace(0.1,1,10)\n",
    "\n",
    "cv_scores = [] # empty list that will hold cv scores\n",
    "\n",
    "# Try each value of alpha in the below loop\n",
    "for a in alpha:\n",
    "    # Create an object of the class KNeighborsClassifier\n",
    "    clf = MultinomialNB(alpha = a)\n",
    "    # perform 5-fold cross validation\n",
    "    # It returns the cv accuracy for each fold in a list\n",
    "    scores = cross_val_score(clf, X_train, y_train, cv=5, scoring='accuracy')\n",
    "    # Store the mean of the accuracies from all the 5 folds\n",
    "    cv_scores.append(scores.mean())\n",
    "\n",
    "# calculate misclassification error from accuracy (error = 1 - accuracy)\n",
    "cv_error = [1 - x for x in cv_scores]\n",
    "\n",
    "# optimal (best) k is the one for which error is minimum (or accuracy is maximum)\n",
    "optimal_alpha = alpha[cv_error.index(min(cv_error))]\n",
    "print('\\nThe optimal alpha is', optimal_alpha)\n",
    "\n",
    "end = time.time()\n",
    "print(\"Total time in minutes = \", (end-start)/60)"
   ]
  },
  {
   "cell_type": "code",
   "execution_count": 20,
   "metadata": {},
   "outputs": [
    {
     "data": {
      "image/png": "[encoded data removed]",
      "text/plain": [
       "<Figure size 432x288 with 1 Axes>"
      ]
     },
     "metadata": {},
     "output_type": "display_data"
    }
   ],
   "source": [
    "# plot misclassification error vs alpha\n",
    "plt.plot(alpha, cv_error)\n",
    "plt.xlabel('Alpha')\n",
    "plt.ylabel('Misclassification Error')\n",
    "plt.show()"
   ]
  },
  {
   "cell_type": "code",
   "execution_count": 21,
   "metadata": {},
   "outputs": [
    {
     "name": "stdout",
     "output_type": "stream",
     "text": [
      "Accuracy = 89.4336649627146\n"
     ]
    },
    {
     "data": {
      "text/plain": [
       "array([[12868,  6198],\n",
       "       [ 5336, 84756]], dtype=int64)"
      ]
     },
     "execution_count": 21,
     "metadata": {},
     "output_type": "execute_result"
    }
   ],
   "source": [
    "clf = MultinomialNB(alpha = optimal_alpha)\n",
    "clf.fit(X_train, y_train)\n",
    "y_pred = clf.predict(X_test)\n",
    "acc = accuracy_score(y_test, y_pred) * 100\n",
    "print(\"Accuracy =\", acc)\n",
    "confusion_matrix(y_test, y_pred)"
   ]
  },
  {
   "cell_type": "markdown",
   "metadata": {},
   "source": [
    "### Let's try different range for alpha"
   ]
  },
  {
   "cell_type": "code",
   "execution_count": 24,
   "metadata": {},
   "outputs": [
    {
     "name": "stdout",
     "output_type": "stream",
     "text": [
      "\n",
      "The optimal number of neighbors is 2.0\n",
      "Total time in minutes =  1.1005320310592652\n"
     ]
    }
   ],
   "source": [
    "start = time.time()\n",
    "# creating odd list of alpha for NB\n",
    "alpha = np.linspace(1,10,10)\n",
    "\n",
    "cv_scores = [] # empty list that will hold cv scores\n",
    "\n",
    "# Try each value of alpha in the below loop\n",
    "for a in alpha:\n",
    "    # Create an object of the class KNeighborsClassifier\n",
    "    clf = MultinomialNB(alpha = a)\n",
    "    # perform 5-fold cross validation\n",
    "    # It returns the cv accuracy for each fold in a list\n",
    "    scores = cross_val_score(clf, X_train, y_train, cv=5, scoring='accuracy')\n",
    "    # Store the mean of the accuracies from all the 5 folds\n",
    "    cv_scores.append(scores.mean())\n",
    "\n",
    "# calculate misclassification error from accuracy (error = 1 - accuracy)\n",
    "cv_error = [1 - x for x in cv_scores]\n",
    "\n",
    "# optimal (best) k is the one for which error is minimum (or accuracy is maximum)\n",
    "optimal_alpha = alpha[cv_error.index(min(cv_error))]\n",
    "print('\\nThe optimal alpha is', optimal_alpha)\n",
    "\n",
    "end = time.time()\n",
    "print(\"Total time in minutes = \", (end-start)/60)"
   ]
  },
  {
   "cell_type": "code",
   "execution_count": 25,
   "metadata": {},
   "outputs": [
    {
     "data": {
      "image/png": "[encoded data removed]",
      "text/plain": [
       "<Figure size 432x288 with 1 Axes>"
      ]
     },
     "metadata": {},
     "output_type": "display_data"
    }
   ],
   "source": [
    "# plot misclassification error vs alpha\n",
    "plt.plot(alpha, cv_error)\n",
    "plt.xlabel('Alpha')\n",
    "plt.ylabel('Misclassification Error')\n",
    "plt.show()"
   ]
  },
  {
   "cell_type": "code",
   "execution_count": 26,
   "metadata": {},
   "outputs": [
    {
     "name": "stdout",
     "output_type": "stream",
     "text": [
      "Accuracy = 89.61505340882024\n"
     ]
    },
    {
     "data": {
      "text/plain": [
       "array([[11863,  7203],\n",
       "       [ 4133, 85959]], dtype=int64)"
      ]
     },
     "execution_count": 26,
     "metadata": {},
     "output_type": "execute_result"
    }
   ],
   "source": [
    "clf = MultinomialNB(alpha = optimal_alpha)\n",
    "clf.fit(X_train, y_train)\n",
    "y_pred = clf.predict(X_test)\n",
    "acc = accuracy_score(y_test, y_pred) * 100\n",
    "print(\"Accuracy =\", acc)\n",
    "confusion_matrix(y_test, y_pred)"
   ]
  },
  {
   "cell_type": "markdown",
   "metadata": {},
   "source": [
    "### Model Interpretability"
   ]
  },
  {
   "cell_type": "code",
   "execution_count": 28,
   "metadata": {},
   "outputs": [
    {
     "name": "stdout",
     "output_type": "stream",
     "text": [
      "Top 50 words in negative reviews\n",
      "tast\n",
      "like\n",
      "product\n",
      "one\n",
      "flavor\n",
      "would\n",
      "tri\n",
      "good\n",
      "coffe\n",
      "use\n",
      "get\n",
      "buy\n",
      "order\n",
      "food\n",
      "tea\n",
      "box\n",
      "even\n",
      "amazon\n",
      "make\n",
      "bag\n",
      "much\n",
      "time\n",
      "eat\n",
      "realli\n",
      "look\n",
      "love\n",
      "packag\n",
      "review\n",
      "purchas\n",
      "dog\n",
      "bought\n",
      "first\n",
      "disappoint\n",
      "bad\n",
      "chocol\n",
      "better\n",
      "want\n",
      "cup\n",
      "price\n",
      "also\n",
      "think\n",
      "know\n",
      "sugar\n",
      "could\n",
      "made\n",
      "water\n",
      "say\n",
      "drink\n",
      "ingredi\n",
      "well\n",
      "\n",
      "******************************************\n",
      "\n",
      "Top 50 words in positive reviews\n",
      "like\n",
      "tast\n",
      "good\n",
      "flavor\n",
      "love\n",
      "great\n",
      "use\n",
      "one\n",
      "product\n",
      "tea\n",
      "tri\n",
      "coffe\n",
      "make\n",
      "get\n",
      "food\n",
      "time\n",
      "would\n",
      "buy\n",
      "amazon\n",
      "eat\n",
      "realli\n",
      "find\n",
      "price\n",
      "best\n",
      "also\n",
      "much\n",
      "order\n",
      "littl\n",
      "store\n",
      "well\n",
      "bag\n",
      "drink\n",
      "dog\n",
      "even\n",
      "mix\n",
      "chocol\n",
      "cup\n",
      "better\n",
      "year\n",
      "day\n",
      "sugar\n",
      "recommend\n",
      "sweet\n",
      "box\n",
      "high\n",
      "found\n",
      "water\n",
      "free\n",
      "treat\n",
      "first\n"
     ]
    }
   ],
   "source": [
    "idx = (-clf.feature_log_prob_).argsort()[:2,:50]\n",
    "print(\"Top 50 words in negative reviews\")\n",
    "for i in idx[0]:\n",
    "    print(bow.get_feature_names()[i])\n",
    "    \n",
    "print(\"\\n******************************************\\n\")\n",
    "print(\"Top 50 words in positive reviews\")\n",
    "for i in idx[1]:\n",
    "    print(bow.get_feature_names()[i])"
   ]
  },
  {
   "cell_type": "code",
   "execution_count": null,
   "metadata": {},
   "outputs": [],
   "source": []
  }
 ],
 "metadata": {
  "kernelspec": {
   "display_name": "Python 3",
   "language": "python",
   "name": "python3"
  },
  "language_info": {
   "codemirror_mode": {
    "name": "ipython",
    "version": 3
   },
   "file_extension": ".py",
   "mimetype": "text/x-python",
   "name": "python",
   "nbconvert_exporter": "python",
   "pygments_lexer": "ipython3",
   "version": "3.6.5"
  }
 },
 "nbformat": 4,
 "nbformat_minor": 2
}
