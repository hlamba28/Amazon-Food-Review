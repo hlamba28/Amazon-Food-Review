{
 "cells": [
  {
   "cell_type": "code",
   "execution_count": 1,
   "metadata": {},
   "outputs": [
    {
     "name": "stderr",
     "output_type": "stream",
     "text": [
      "C:\\ProgramData\\Anaconda3\\lib\\site-packages\\gensim\\utils.py:1209: UserWarning: detected Windows; aliasing chunkize to chunkize_serial\n",
      "  warnings.warn(\"detected Windows; aliasing chunkize to chunkize_serial\")\n"
     ]
    }
   ],
   "source": [
    "## Import libraries\n",
    "import numpy as np\n",
    "import pandas as pd\n",
    "import matplotlib.pyplot as plt\n",
    "import seaborn as sns\n",
    "%matplotlib inline\n",
    "\n",
    "import sqlite3    ## SQL Interface\n",
    "import pickle     ## Used to save your data - Converts objects to byte stream and vice versa\n",
    "import time\n",
    "\n",
    "from sklearn.preprocessing import StandardScaler\n",
    "from sklearn.model_selection import train_test_split\n",
    "from sklearn.model_selection import cross_val_score\n",
    "\n",
    "# KNN classifier\n",
    "from sklearn.neighbors import KNeighborsClassifier\n",
    "\n",
    "# Evaluation Metrics\n",
    "from sklearn.metrics import accuracy_score\n",
    "from sklearn.metrics import confusion_matrix\n",
    "\n",
    "import gensim    ## Word Embeddings"
   ]
  },
  {
   "cell_type": "markdown",
   "metadata": {},
   "source": [
    "### Read the file containing cleaned reviews"
   ]
  },
  {
   "cell_type": "code",
   "execution_count": 2,
   "metadata": {},
   "outputs": [],
   "source": [
    "conn = sqlite3.connect('../8. Amazon_New/final.sqlite')\n",
    "final = pd.read_sql_query(\"\"\"SELECT * FROM Reviews\"\"\", conn)\n",
    "conn.close()"
   ]
  },
  {
   "cell_type": "code",
   "execution_count": 3,
   "metadata": {},
   "outputs": [
    {
     "data": {
      "text/html": [
       "<div>\n",
       "<style scoped>\n",
       "    .dataframe tbody tr th:only-of-type {\n",
       "        vertical-align: middle;\n",
       "    }\n",
       "\n",
       "    .dataframe tbody tr th {\n",
       "        vertical-align: top;\n",
       "    }\n",
       "\n",
       "    .dataframe thead th {\n",
       "        text-align: right;\n",
       "    }\n",
       "</style>\n",
       "<table border=\"1\" class=\"dataframe\">\n",
       "  <thead>\n",
       "    <tr style=\"text-align: right;\">\n",
       "      <th></th>\n",
       "      <th>Id</th>\n",
       "      <th>ProductId</th>\n",
       "      <th>UserId</th>\n",
       "      <th>ProfileName</th>\n",
       "      <th>HelpfulnessNumerator</th>\n",
       "      <th>HelpfulnessDenominator</th>\n",
       "      <th>Score</th>\n",
       "      <th>Time</th>\n",
       "      <th>Summary</th>\n",
       "      <th>Text</th>\n",
       "      <th>CleanedText</th>\n",
       "    </tr>\n",
       "  </thead>\n",
       "  <tbody>\n",
       "    <tr>\n",
       "      <th>0</th>\n",
       "      <td>1</td>\n",
       "      <td>B001E4KFG0</td>\n",
       "      <td>A3SGXH7AUHU8GW</td>\n",
       "      <td>delmartian</td>\n",
       "      <td>1</td>\n",
       "      <td>1</td>\n",
       "      <td>1</td>\n",
       "      <td>1303862400</td>\n",
       "      <td>Good Quality Dog Food</td>\n",
       "      <td>I have bought several of the Vitality canned d...</td>\n",
       "      <td>bought sever vital can dog food product found ...</td>\n",
       "    </tr>\n",
       "    <tr>\n",
       "      <th>1</th>\n",
       "      <td>2</td>\n",
       "      <td>B00813GRG4</td>\n",
       "      <td>A1D87F6ZCVE5NK</td>\n",
       "      <td>dll pa</td>\n",
       "      <td>0</td>\n",
       "      <td>0</td>\n",
       "      <td>0</td>\n",
       "      <td>1346976000</td>\n",
       "      <td>Not as Advertised</td>\n",
       "      <td>Product arrived labeled as Jumbo Salted Peanut...</td>\n",
       "      <td>product arriv label jumbo salt peanut peanut a...</td>\n",
       "    </tr>\n",
       "    <tr>\n",
       "      <th>2</th>\n",
       "      <td>3</td>\n",
       "      <td>B000LQOCH0</td>\n",
       "      <td>ABXLMWJIXXAIN</td>\n",
       "      <td>Natalia Corres \"Natalia Corres\"</td>\n",
       "      <td>1</td>\n",
       "      <td>1</td>\n",
       "      <td>1</td>\n",
       "      <td>1219017600</td>\n",
       "      <td>\"Delight\" says it all</td>\n",
       "      <td>This is a confection that has been around a fe...</td>\n",
       "      <td>confect around centuri light pillowi citrus ge...</td>\n",
       "    </tr>\n",
       "    <tr>\n",
       "      <th>3</th>\n",
       "      <td>4</td>\n",
       "      <td>B000UA0QIQ</td>\n",
       "      <td>A395BORC6FGVXV</td>\n",
       "      <td>Karl</td>\n",
       "      <td>3</td>\n",
       "      <td>3</td>\n",
       "      <td>0</td>\n",
       "      <td>1307923200</td>\n",
       "      <td>Cough Medicine</td>\n",
       "      <td>If you are looking for the secret ingredient i...</td>\n",
       "      <td>look secret ingredi robitussin believ found go...</td>\n",
       "    </tr>\n",
       "    <tr>\n",
       "      <th>4</th>\n",
       "      <td>5</td>\n",
       "      <td>B006K2ZZ7K</td>\n",
       "      <td>A1UQRSCLF8GW1T</td>\n",
       "      <td>Michael D. Bigham \"M. Wassir\"</td>\n",
       "      <td>0</td>\n",
       "      <td>0</td>\n",
       "      <td>1</td>\n",
       "      <td>1350777600</td>\n",
       "      <td>Great taffy</td>\n",
       "      <td>Great taffy at a great price.  There was a wid...</td>\n",
       "      <td>great taffi great price wide assort yummi taff...</td>\n",
       "    </tr>\n",
       "  </tbody>\n",
       "</table>\n",
       "</div>"
      ],
      "text/plain": [
       "   Id   ProductId          UserId                      ProfileName  \\\n",
       "0   1  B001E4KFG0  A3SGXH7AUHU8GW                       delmartian   \n",
       "1   2  B00813GRG4  A1D87F6ZCVE5NK                           dll pa   \n",
       "2   3  B000LQOCH0   ABXLMWJIXXAIN  Natalia Corres \"Natalia Corres\"   \n",
       "3   4  B000UA0QIQ  A395BORC6FGVXV                             Karl   \n",
       "4   5  B006K2ZZ7K  A1UQRSCLF8GW1T    Michael D. Bigham \"M. Wassir\"   \n",
       "\n",
       "   HelpfulnessNumerator  HelpfulnessDenominator  Score        Time  \\\n",
       "0                     1                       1      1  1303862400   \n",
       "1                     0                       0      0  1346976000   \n",
       "2                     1                       1      1  1219017600   \n",
       "3                     3                       3      0  1307923200   \n",
       "4                     0                       0      1  1350777600   \n",
       "\n",
       "                 Summary                                               Text  \\\n",
       "0  Good Quality Dog Food  I have bought several of the Vitality canned d...   \n",
       "1      Not as Advertised  Product arrived labeled as Jumbo Salted Peanut...   \n",
       "2  \"Delight\" says it all  This is a confection that has been around a fe...   \n",
       "3         Cough Medicine  If you are looking for the secret ingredient i...   \n",
       "4            Great taffy  Great taffy at a great price.  There was a wid...   \n",
       "\n",
       "                                         CleanedText  \n",
       "0  bought sever vital can dog food product found ...  \n",
       "1  product arriv label jumbo salt peanut peanut a...  \n",
       "2  confect around centuri light pillowi citrus ge...  \n",
       "3  look secret ingredi robitussin believ found go...  \n",
       "4  great taffi great price wide assort yummi taff...  "
      ]
     },
     "execution_count": 3,
     "metadata": {},
     "output_type": "execute_result"
    }
   ],
   "source": [
    "final.head()"
   ]
  },
  {
   "cell_type": "markdown",
   "metadata": {},
   "source": [
    "### Read the list_of_sent created during EDA and cleaning"
   ]
  },
  {
   "cell_type": "code",
   "execution_count": 3,
   "metadata": {},
   "outputs": [],
   "source": [
    "with open('../8. Amazon_New/list_of_sent_for_input_to_w2v.pkl', 'rb') as pickle_file:\n",
    "    list_of_sent = pickle.load(pickle_file)"
   ]
  },
  {
   "cell_type": "markdown",
   "metadata": {},
   "source": [
    "### Recall below is the first element of list_of_sent"
   ]
  },
  {
   "cell_type": "code",
   "execution_count": 6,
   "metadata": {},
   "outputs": [
    {
     "name": "stdout",
     "output_type": "stream",
     "text": [
      "['bought', 'sever', 'vital', 'can', 'dog', 'food', 'product', 'found', 'good', 'qualiti', 'product', 'look', 'like', 'stew', 'process', 'meat', 'smell', 'better', 'labrador', 'finicki', 'appreci', 'product', 'better']\n"
     ]
    }
   ],
   "source": [
    "print(list_of_sent[0])"
   ]
  },
  {
   "cell_type": "markdown",
   "metadata": {},
   "source": [
    "#### Training the Word2Vec model for words with min count 5¶\n",
    "Reference for intuition - https://www.tensorflow.org/tutorials/word2vec"
   ]
  },
  {
   "cell_type": "code",
   "execution_count": 37,
   "metadata": {},
   "outputs": [],
   "source": [
    "## size is the no of dimensions\n",
    "## min_count specifies the min no of times a word needs to occur to be included in the model\n",
    "## workers is the number of cores on your PC\n",
    "w2v_model=gensim.models.Word2Vec(list_of_sent,min_count=5,size=50, workers=-1)"
   ]
  },
  {
   "cell_type": "code",
   "execution_count": 38,
   "metadata": {},
   "outputs": [
    {
     "name": "stdout",
     "output_type": "stream",
     "text": [
      "23157\n"
     ]
    }
   ],
   "source": [
    "# Check the number of unique words in the vocabulary\n",
    "words = list(w2v_model.wv.vocab)\n",
    "print(len(words))"
   ]
  },
  {
   "cell_type": "markdown",
   "metadata": {},
   "source": [
    "**Intuitive understanding of W2V - Check the most similar words to a given word**"
   ]
  },
  {
   "cell_type": "code",
   "execution_count": 40,
   "metadata": {},
   "outputs": [
    {
     "name": "stderr",
     "output_type": "stream",
     "text": [
      "C:\\ProgramData\\Anaconda3\\lib\\site-packages\\gensim\\matutils.py:737: FutureWarning: Conversion of the second argument of issubdtype from `int` to `np.signedinteger` is deprecated. In future, it will be treated as `np.int32 == np.dtype(int).type`.\n",
      "  if np.issubdtype(vec.dtype, np.int):\n"
     ]
    },
    {
     "data": {
      "text/plain": [
       "[('zaatar', 0.5735179781913757),\n",
       " ('bough', 0.526114821434021),\n",
       " ('shoebox', 0.5048079490661621),\n",
       " ('mallomar', 0.5015389919281006),\n",
       " ('visit', 0.4882321059703827),\n",
       " ('simplic', 0.485422819852829),\n",
       " ('mortal', 0.4739305377006531),\n",
       " ('papadum', 0.469342440366745),\n",
       " ('wiht', 0.4687284827232361),\n",
       " ('173', 0.4659099876880646)]"
      ]
     },
     "execution_count": 40,
     "metadata": {},
     "output_type": "execute_result"
    }
   ],
   "source": [
    "w2v_model.wv.most_similar('tasti')"
   ]
  },
  {
   "cell_type": "code",
   "execution_count": 41,
   "metadata": {},
   "outputs": [
    {
     "name": "stderr",
     "output_type": "stream",
     "text": [
      "C:\\ProgramData\\Anaconda3\\lib\\site-packages\\gensim\\matutils.py:737: FutureWarning: Conversion of the second argument of issubdtype from `int` to `np.signedinteger` is deprecated. In future, it will be treated as `np.int32 == np.dtype(int).type`.\n",
      "  if np.issubdtype(vec.dtype, np.int):\n"
     ]
    },
    {
     "data": {
      "text/plain": [
       "[('dissappear', 0.5243841409683228),\n",
       " ('spendi', 0.5138816237449646),\n",
       " ('whiten', 0.5043807625770569),\n",
       " ('landscap', 0.4846740961074829),\n",
       " ('offer', 0.4844324588775635),\n",
       " ('mambo', 0.47599223256111145),\n",
       " ('worker', 0.47495415806770325),\n",
       " ('rustl', 0.4710223078727722),\n",
       " ('nelson', 0.4708782434463501),\n",
       " ('ultrasound', 0.4671080410480499)]"
      ]
     },
     "execution_count": 41,
     "metadata": {},
     "output_type": "execute_result"
    }
   ],
   "source": [
    "w2v_model.wv.most_similar('like')"
   ]
  },
  {
   "cell_type": "markdown",
   "metadata": {},
   "source": [
    "## Function to calculate Avg Word2Vec"
   ]
  },
  {
   "cell_type": "code",
   "execution_count": 42,
   "metadata": {},
   "outputs": [],
   "source": [
    "def calc_avg_w2v(list_of_sent, w2v_model):\n",
    "    '''This function takes in 2 parameters as follows:\n",
    "       1. list_of_sent - This is the list of sentences/reviews for which sentence vetors are to be constructed\n",
    "       2. w2v_model - This is the Word2Vec model which is trained on the working corpus - contains the word vectors\n",
    "       \n",
    "       Return Value:\n",
    "       sent_vectors - This is a list of sentence/review vectors constructed by averaging the word vectors\n",
    "    '''\n",
    "    \n",
    "    ## Initialize an empty list\n",
    "    sent_vectors = []\n",
    "    \n",
    "    ## Consider one sentence/review at a time\n",
    "    for sent in list_of_sent:\n",
    "        ## Initialize sentence vector to 0\n",
    "        ## Note: Size of the vector must match the no. of dimensions used in word2vec model\n",
    "        sent_vec = np.zeros(50)\n",
    "        \n",
    "        ## Initialize count of words to 0\n",
    "        cnt_words = 0\n",
    "        \n",
    "        ## Consider the words one by one\n",
    "        for word in sent:\n",
    "            try:\n",
    "                ## Calculate the word vector using the W2V model\n",
    "                vec = w2v_model.wv[word]\n",
    "                ## Add the word vector to the sentence vector (This is the numerator)\n",
    "                sent_vec += vec\n",
    "                ## Sum all the word counts (This is the denominator)\n",
    "                cnt_words += 1\n",
    "            except:\n",
    "                pass\n",
    "        ## Divide the numerator by the denominator to get the sentence vector\n",
    "        sent_vec /= cnt_words\n",
    "        ## Add the sentence vector in the final list\n",
    "        sent_vectors.append(sent_vec)\n",
    "    ## return the list of all the sentence vectors\n",
    "    return sent_vectors"
   ]
  },
  {
   "cell_type": "code",
   "execution_count": 43,
   "metadata": {},
   "outputs": [
    {
     "name": "stderr",
     "output_type": "stream",
     "text": [
      "C:\\ProgramData\\Anaconda3\\lib\\site-packages\\ipykernel_launcher.py:34: RuntimeWarning: invalid value encountered in true_divide\n"
     ]
    },
    {
     "name": "stdout",
     "output_type": "stream",
     "text": [
      "Time taken in minutes 6.152189866701762\n"
     ]
    }
   ],
   "source": [
    "start = time.time()\n",
    "sent_vectors = calc_avg_w2v(list_of_sent, w2v_model)\n",
    "end = time.time()\n",
    "print(\"Time taken in minutes\", (end - start)/60)"
   ]
  },
  {
   "cell_type": "code",
   "execution_count": 45,
   "metadata": {},
   "outputs": [
    {
     "data": {
      "text/plain": [
       "(363857, 50)"
      ]
     },
     "execution_count": 45,
     "metadata": {},
     "output_type": "execute_result"
    }
   ],
   "source": [
    "len(sent_vectors), len(sent_vectors[0])"
   ]
  },
  {
   "cell_type": "code",
   "execution_count": 49,
   "metadata": {},
   "outputs": [
    {
     "name": "stdout",
     "output_type": "stream",
     "text": [
      "[-1.58500453e-03  1.25931394e-03  4.81601389e-04 -9.56613550e-06\n",
      "  1.55688269e-03  2.75262945e-03 -1.34308745e-03 -5.70898271e-04\n",
      "  6.09443725e-04  1.03349863e-03 -9.52538833e-04 -2.72247703e-03\n",
      "  3.41567257e-04 -1.89997194e-03  2.09309676e-03 -1.51114208e-04\n",
      "  2.49414284e-03 -1.02259666e-03  1.27831668e-03  4.60717491e-04\n",
      " -1.98890812e-03  1.08601094e-03 -7.16831495e-05 -1.16856771e-03\n",
      " -7.13653390e-04 -9.44401887e-05  5.36268612e-04 -4.35571672e-03\n",
      " -1.25983414e-03 -3.89494321e-04  1.25650382e-03  1.39477127e-03\n",
      "  1.48109324e-04 -9.37922982e-04 -6.62678473e-04 -1.27830607e-03\n",
      "  8.28539406e-04 -2.00479674e-04  1.37106146e-03 -1.18693757e-03\n",
      "  2.60284378e-04  1.54206403e-03  1.85470340e-03  4.83643369e-04\n",
      " -1.69119677e-03 -4.82099179e-04  9.60774836e-04 -1.92392629e-03\n",
      "  3.91276204e-04  1.71157562e-04]\n"
     ]
    }
   ],
   "source": [
    "# example dense vector\n",
    "print(sent_vectors[1020])"
   ]
  },
  {
   "cell_type": "markdown",
   "metadata": {},
   "source": [
    "### Convert the list of vectors into a pandas dataframe"
   ]
  },
  {
   "cell_type": "code",
   "execution_count": 50,
   "metadata": {},
   "outputs": [
    {
     "data": {
      "text/html": [
       "<div>\n",
       "<style scoped>\n",
       "    .dataframe tbody tr th:only-of-type {\n",
       "        vertical-align: middle;\n",
       "    }\n",
       "\n",
       "    .dataframe tbody tr th {\n",
       "        vertical-align: top;\n",
       "    }\n",
       "\n",
       "    .dataframe thead th {\n",
       "        text-align: right;\n",
       "    }\n",
       "</style>\n",
       "<table border=\"1\" class=\"dataframe\">\n",
       "  <thead>\n",
       "    <tr style=\"text-align: right;\">\n",
       "      <th></th>\n",
       "      <th>0</th>\n",
       "      <th>1</th>\n",
       "      <th>2</th>\n",
       "      <th>3</th>\n",
       "      <th>4</th>\n",
       "      <th>5</th>\n",
       "      <th>6</th>\n",
       "      <th>7</th>\n",
       "      <th>8</th>\n",
       "      <th>9</th>\n",
       "      <th>...</th>\n",
       "      <th>40</th>\n",
       "      <th>41</th>\n",
       "      <th>42</th>\n",
       "      <th>43</th>\n",
       "      <th>44</th>\n",
       "      <th>45</th>\n",
       "      <th>46</th>\n",
       "      <th>47</th>\n",
       "      <th>48</th>\n",
       "      <th>49</th>\n",
       "    </tr>\n",
       "  </thead>\n",
       "  <tbody>\n",
       "    <tr>\n",
       "      <th>0</th>\n",
       "      <td>0.000994</td>\n",
       "      <td>-0.001200</td>\n",
       "      <td>-0.000592</td>\n",
       "      <td>-0.000332</td>\n",
       "      <td>0.003839</td>\n",
       "      <td>-0.001236</td>\n",
       "      <td>0.000538</td>\n",
       "      <td>-0.001063</td>\n",
       "      <td>0.002179</td>\n",
       "      <td>-0.001249</td>\n",
       "      <td>...</td>\n",
       "      <td>-0.001743</td>\n",
       "      <td>0.000168</td>\n",
       "      <td>0.001167</td>\n",
       "      <td>0.000839</td>\n",
       "      <td>0.000871</td>\n",
       "      <td>0.000069</td>\n",
       "      <td>0.000134</td>\n",
       "      <td>0.001042</td>\n",
       "      <td>-0.000939</td>\n",
       "      <td>-0.000515</td>\n",
       "    </tr>\n",
       "    <tr>\n",
       "      <th>1</th>\n",
       "      <td>-0.001138</td>\n",
       "      <td>-0.000662</td>\n",
       "      <td>0.001932</td>\n",
       "      <td>-0.000279</td>\n",
       "      <td>-0.000166</td>\n",
       "      <td>-0.002701</td>\n",
       "      <td>0.000978</td>\n",
       "      <td>0.001006</td>\n",
       "      <td>-0.002395</td>\n",
       "      <td>0.002002</td>\n",
       "      <td>...</td>\n",
       "      <td>-0.000377</td>\n",
       "      <td>0.005525</td>\n",
       "      <td>0.000948</td>\n",
       "      <td>0.000652</td>\n",
       "      <td>0.002871</td>\n",
       "      <td>-0.000345</td>\n",
       "      <td>0.001333</td>\n",
       "      <td>-0.001796</td>\n",
       "      <td>-0.002315</td>\n",
       "      <td>0.000613</td>\n",
       "    </tr>\n",
       "    <tr>\n",
       "      <th>2</th>\n",
       "      <td>0.000414</td>\n",
       "      <td>0.000209</td>\n",
       "      <td>0.000418</td>\n",
       "      <td>0.000901</td>\n",
       "      <td>-0.000594</td>\n",
       "      <td>-0.001485</td>\n",
       "      <td>-0.001612</td>\n",
       "      <td>-0.000216</td>\n",
       "      <td>0.000177</td>\n",
       "      <td>-0.000575</td>\n",
       "      <td>...</td>\n",
       "      <td>0.000445</td>\n",
       "      <td>-0.000955</td>\n",
       "      <td>0.000514</td>\n",
       "      <td>-0.001139</td>\n",
       "      <td>0.000266</td>\n",
       "      <td>-0.000551</td>\n",
       "      <td>0.001802</td>\n",
       "      <td>-0.000096</td>\n",
       "      <td>-0.000671</td>\n",
       "      <td>0.000893</td>\n",
       "    </tr>\n",
       "    <tr>\n",
       "      <th>3</th>\n",
       "      <td>-0.002251</td>\n",
       "      <td>-0.000310</td>\n",
       "      <td>0.000445</td>\n",
       "      <td>0.000662</td>\n",
       "      <td>-0.000651</td>\n",
       "      <td>0.001942</td>\n",
       "      <td>-0.001938</td>\n",
       "      <td>-0.000942</td>\n",
       "      <td>0.001570</td>\n",
       "      <td>-0.001456</td>\n",
       "      <td>...</td>\n",
       "      <td>-0.000459</td>\n",
       "      <td>-0.001013</td>\n",
       "      <td>-0.001923</td>\n",
       "      <td>0.000565</td>\n",
       "      <td>-0.000134</td>\n",
       "      <td>0.000879</td>\n",
       "      <td>0.001011</td>\n",
       "      <td>0.000470</td>\n",
       "      <td>-0.001482</td>\n",
       "      <td>0.000077</td>\n",
       "    </tr>\n",
       "    <tr>\n",
       "      <th>4</th>\n",
       "      <td>0.004403</td>\n",
       "      <td>0.000178</td>\n",
       "      <td>-0.000167</td>\n",
       "      <td>-0.000287</td>\n",
       "      <td>0.000547</td>\n",
       "      <td>-0.001411</td>\n",
       "      <td>-0.002509</td>\n",
       "      <td>-0.000469</td>\n",
       "      <td>-0.001253</td>\n",
       "      <td>0.000793</td>\n",
       "      <td>...</td>\n",
       "      <td>0.000227</td>\n",
       "      <td>-0.000348</td>\n",
       "      <td>-0.000671</td>\n",
       "      <td>-0.002184</td>\n",
       "      <td>-0.002110</td>\n",
       "      <td>-0.002388</td>\n",
       "      <td>-0.002377</td>\n",
       "      <td>-0.003431</td>\n",
       "      <td>-0.001461</td>\n",
       "      <td>0.003446</td>\n",
       "    </tr>\n",
       "  </tbody>\n",
       "</table>\n",
       "<p>5 rows × 50 columns</p>\n",
       "</div>"
      ],
      "text/plain": [
       "         0         1         2         3         4         5         6   \\\n",
       "0  0.000994 -0.001200 -0.000592 -0.000332  0.003839 -0.001236  0.000538   \n",
       "1 -0.001138 -0.000662  0.001932 -0.000279 -0.000166 -0.002701  0.000978   \n",
       "2  0.000414  0.000209  0.000418  0.000901 -0.000594 -0.001485 -0.001612   \n",
       "3 -0.002251 -0.000310  0.000445  0.000662 -0.000651  0.001942 -0.001938   \n",
       "4  0.004403  0.000178 -0.000167 -0.000287  0.000547 -0.001411 -0.002509   \n",
       "\n",
       "         7         8         9     ...           40        41        42  \\\n",
       "0 -0.001063  0.002179 -0.001249    ...    -0.001743  0.000168  0.001167   \n",
       "1  0.001006 -0.002395  0.002002    ...    -0.000377  0.005525  0.000948   \n",
       "2 -0.000216  0.000177 -0.000575    ...     0.000445 -0.000955  0.000514   \n",
       "3 -0.000942  0.001570 -0.001456    ...    -0.000459 -0.001013 -0.001923   \n",
       "4 -0.000469 -0.001253  0.000793    ...     0.000227 -0.000348 -0.000671   \n",
       "\n",
       "         43        44        45        46        47        48        49  \n",
       "0  0.000839  0.000871  0.000069  0.000134  0.001042 -0.000939 -0.000515  \n",
       "1  0.000652  0.002871 -0.000345  0.001333 -0.001796 -0.002315  0.000613  \n",
       "2 -0.001139  0.000266 -0.000551  0.001802 -0.000096 -0.000671  0.000893  \n",
       "3  0.000565 -0.000134  0.000879  0.001011  0.000470 -0.001482  0.000077  \n",
       "4 -0.002184 -0.002110 -0.002388 -0.002377 -0.003431 -0.001461  0.003446  \n",
       "\n",
       "[5 rows x 50 columns]"
      ]
     },
     "execution_count": 50,
     "metadata": {},
     "output_type": "execute_result"
    }
   ],
   "source": [
    "df = pd.DataFrame(sent_vectors)\n",
    "df.head()"
   ]
  },
  {
   "cell_type": "markdown",
   "metadata": {},
   "source": [
    "### Add the Time and Score columns to the dataframe"
   ]
  },
  {
   "cell_type": "code",
   "execution_count": 51,
   "metadata": {},
   "outputs": [
    {
     "data": {
      "text/html": [
       "<div>\n",
       "<style scoped>\n",
       "    .dataframe tbody tr th:only-of-type {\n",
       "        vertical-align: middle;\n",
       "    }\n",
       "\n",
       "    .dataframe tbody tr th {\n",
       "        vertical-align: top;\n",
       "    }\n",
       "\n",
       "    .dataframe thead th {\n",
       "        text-align: right;\n",
       "    }\n",
       "</style>\n",
       "<table border=\"1\" class=\"dataframe\">\n",
       "  <thead>\n",
       "    <tr style=\"text-align: right;\">\n",
       "      <th></th>\n",
       "      <th>Time</th>\n",
       "      <th>Score</th>\n",
       "      <th>0</th>\n",
       "      <th>1</th>\n",
       "      <th>2</th>\n",
       "      <th>3</th>\n",
       "      <th>4</th>\n",
       "      <th>5</th>\n",
       "      <th>6</th>\n",
       "      <th>7</th>\n",
       "      <th>...</th>\n",
       "      <th>40</th>\n",
       "      <th>41</th>\n",
       "      <th>42</th>\n",
       "      <th>43</th>\n",
       "      <th>44</th>\n",
       "      <th>45</th>\n",
       "      <th>46</th>\n",
       "      <th>47</th>\n",
       "      <th>48</th>\n",
       "      <th>49</th>\n",
       "    </tr>\n",
       "  </thead>\n",
       "  <tbody>\n",
       "    <tr>\n",
       "      <th>0</th>\n",
       "      <td>1303862400</td>\n",
       "      <td>1</td>\n",
       "      <td>0.000994</td>\n",
       "      <td>-0.001200</td>\n",
       "      <td>-0.000592</td>\n",
       "      <td>-0.000332</td>\n",
       "      <td>0.003839</td>\n",
       "      <td>-0.001236</td>\n",
       "      <td>0.000538</td>\n",
       "      <td>-0.001063</td>\n",
       "      <td>...</td>\n",
       "      <td>-0.001743</td>\n",
       "      <td>0.000168</td>\n",
       "      <td>0.001167</td>\n",
       "      <td>0.000839</td>\n",
       "      <td>0.000871</td>\n",
       "      <td>0.000069</td>\n",
       "      <td>0.000134</td>\n",
       "      <td>0.001042</td>\n",
       "      <td>-0.000939</td>\n",
       "      <td>-0.000515</td>\n",
       "    </tr>\n",
       "    <tr>\n",
       "      <th>1</th>\n",
       "      <td>1346976000</td>\n",
       "      <td>0</td>\n",
       "      <td>-0.001138</td>\n",
       "      <td>-0.000662</td>\n",
       "      <td>0.001932</td>\n",
       "      <td>-0.000279</td>\n",
       "      <td>-0.000166</td>\n",
       "      <td>-0.002701</td>\n",
       "      <td>0.000978</td>\n",
       "      <td>0.001006</td>\n",
       "      <td>...</td>\n",
       "      <td>-0.000377</td>\n",
       "      <td>0.005525</td>\n",
       "      <td>0.000948</td>\n",
       "      <td>0.000652</td>\n",
       "      <td>0.002871</td>\n",
       "      <td>-0.000345</td>\n",
       "      <td>0.001333</td>\n",
       "      <td>-0.001796</td>\n",
       "      <td>-0.002315</td>\n",
       "      <td>0.000613</td>\n",
       "    </tr>\n",
       "    <tr>\n",
       "      <th>2</th>\n",
       "      <td>1219017600</td>\n",
       "      <td>1</td>\n",
       "      <td>0.000414</td>\n",
       "      <td>0.000209</td>\n",
       "      <td>0.000418</td>\n",
       "      <td>0.000901</td>\n",
       "      <td>-0.000594</td>\n",
       "      <td>-0.001485</td>\n",
       "      <td>-0.001612</td>\n",
       "      <td>-0.000216</td>\n",
       "      <td>...</td>\n",
       "      <td>0.000445</td>\n",
       "      <td>-0.000955</td>\n",
       "      <td>0.000514</td>\n",
       "      <td>-0.001139</td>\n",
       "      <td>0.000266</td>\n",
       "      <td>-0.000551</td>\n",
       "      <td>0.001802</td>\n",
       "      <td>-0.000096</td>\n",
       "      <td>-0.000671</td>\n",
       "      <td>0.000893</td>\n",
       "    </tr>\n",
       "    <tr>\n",
       "      <th>3</th>\n",
       "      <td>1307923200</td>\n",
       "      <td>0</td>\n",
       "      <td>-0.002251</td>\n",
       "      <td>-0.000310</td>\n",
       "      <td>0.000445</td>\n",
       "      <td>0.000662</td>\n",
       "      <td>-0.000651</td>\n",
       "      <td>0.001942</td>\n",
       "      <td>-0.001938</td>\n",
       "      <td>-0.000942</td>\n",
       "      <td>...</td>\n",
       "      <td>-0.000459</td>\n",
       "      <td>-0.001013</td>\n",
       "      <td>-0.001923</td>\n",
       "      <td>0.000565</td>\n",
       "      <td>-0.000134</td>\n",
       "      <td>0.000879</td>\n",
       "      <td>0.001011</td>\n",
       "      <td>0.000470</td>\n",
       "      <td>-0.001482</td>\n",
       "      <td>0.000077</td>\n",
       "    </tr>\n",
       "    <tr>\n",
       "      <th>4</th>\n",
       "      <td>1350777600</td>\n",
       "      <td>1</td>\n",
       "      <td>0.004403</td>\n",
       "      <td>0.000178</td>\n",
       "      <td>-0.000167</td>\n",
       "      <td>-0.000287</td>\n",
       "      <td>0.000547</td>\n",
       "      <td>-0.001411</td>\n",
       "      <td>-0.002509</td>\n",
       "      <td>-0.000469</td>\n",
       "      <td>...</td>\n",
       "      <td>0.000227</td>\n",
       "      <td>-0.000348</td>\n",
       "      <td>-0.000671</td>\n",
       "      <td>-0.002184</td>\n",
       "      <td>-0.002110</td>\n",
       "      <td>-0.002388</td>\n",
       "      <td>-0.002377</td>\n",
       "      <td>-0.003431</td>\n",
       "      <td>-0.001461</td>\n",
       "      <td>0.003446</td>\n",
       "    </tr>\n",
       "  </tbody>\n",
       "</table>\n",
       "<p>5 rows × 52 columns</p>\n",
       "</div>"
      ],
      "text/plain": [
       "         Time  Score         0         1         2         3         4  \\\n",
       "0  1303862400      1  0.000994 -0.001200 -0.000592 -0.000332  0.003839   \n",
       "1  1346976000      0 -0.001138 -0.000662  0.001932 -0.000279 -0.000166   \n",
       "2  1219017600      1  0.000414  0.000209  0.000418  0.000901 -0.000594   \n",
       "3  1307923200      0 -0.002251 -0.000310  0.000445  0.000662 -0.000651   \n",
       "4  1350777600      1  0.004403  0.000178 -0.000167 -0.000287  0.000547   \n",
       "\n",
       "          5         6         7    ...           40        41        42  \\\n",
       "0 -0.001236  0.000538 -0.001063    ...    -0.001743  0.000168  0.001167   \n",
       "1 -0.002701  0.000978  0.001006    ...    -0.000377  0.005525  0.000948   \n",
       "2 -0.001485 -0.001612 -0.000216    ...     0.000445 -0.000955  0.000514   \n",
       "3  0.001942 -0.001938 -0.000942    ...    -0.000459 -0.001013 -0.001923   \n",
       "4 -0.001411 -0.002509 -0.000469    ...     0.000227 -0.000348 -0.000671   \n",
       "\n",
       "         43        44        45        46        47        48        49  \n",
       "0  0.000839  0.000871  0.000069  0.000134  0.001042 -0.000939 -0.000515  \n",
       "1  0.000652  0.002871 -0.000345  0.001333 -0.001796 -0.002315  0.000613  \n",
       "2 -0.001139  0.000266 -0.000551  0.001802 -0.000096 -0.000671  0.000893  \n",
       "3  0.000565 -0.000134  0.000879  0.001011  0.000470 -0.001482  0.000077  \n",
       "4 -0.002184 -0.002110 -0.002388 -0.002377 -0.003431 -0.001461  0.003446  \n",
       "\n",
       "[5 rows x 52 columns]"
      ]
     },
     "execution_count": 51,
     "metadata": {},
     "output_type": "execute_result"
    }
   ],
   "source": [
    "df = pd.concat([final['Time'], final['Score'], df], axis = 1)\n",
    "df.head()"
   ]
  },
  {
   "cell_type": "markdown",
   "metadata": {},
   "source": [
    "#### Since KNN is a bit slow and requires more RAM, we will use a sample of the dataset.\n",
    "Since we are sampling the dataset, we will create a balanced dataset containing only 10000 points (5000 positive and 5000 negative)"
   ]
  },
  {
   "cell_type": "code",
   "execution_count": 52,
   "metadata": {},
   "outputs": [
    {
     "data": {
      "text/html": [
       "<div>\n",
       "<style scoped>\n",
       "    .dataframe tbody tr th:only-of-type {\n",
       "        vertical-align: middle;\n",
       "    }\n",
       "\n",
       "    .dataframe tbody tr th {\n",
       "        vertical-align: top;\n",
       "    }\n",
       "\n",
       "    .dataframe thead th {\n",
       "        text-align: right;\n",
       "    }\n",
       "</style>\n",
       "<table border=\"1\" class=\"dataframe\">\n",
       "  <thead>\n",
       "    <tr style=\"text-align: right;\">\n",
       "      <th></th>\n",
       "      <th>Time</th>\n",
       "      <th>Score</th>\n",
       "      <th>0</th>\n",
       "      <th>1</th>\n",
       "      <th>2</th>\n",
       "      <th>3</th>\n",
       "      <th>4</th>\n",
       "      <th>5</th>\n",
       "      <th>6</th>\n",
       "      <th>7</th>\n",
       "      <th>...</th>\n",
       "      <th>40</th>\n",
       "      <th>41</th>\n",
       "      <th>42</th>\n",
       "      <th>43</th>\n",
       "      <th>44</th>\n",
       "      <th>45</th>\n",
       "      <th>46</th>\n",
       "      <th>47</th>\n",
       "      <th>48</th>\n",
       "      <th>49</th>\n",
       "    </tr>\n",
       "  </thead>\n",
       "  <tbody>\n",
       "    <tr>\n",
       "      <th>5954</th>\n",
       "      <td>961718400</td>\n",
       "      <td>1</td>\n",
       "      <td>-0.000271</td>\n",
       "      <td>-0.001503</td>\n",
       "      <td>0.001929</td>\n",
       "      <td>-0.000523</td>\n",
       "      <td>0.002598</td>\n",
       "      <td>-0.001261</td>\n",
       "      <td>-0.004744</td>\n",
       "      <td>-0.000404</td>\n",
       "      <td>...</td>\n",
       "      <td>-0.002476</td>\n",
       "      <td>0.000521</td>\n",
       "      <td>0.002572</td>\n",
       "      <td>0.001378</td>\n",
       "      <td>0.000661</td>\n",
       "      <td>0.000855</td>\n",
       "      <td>0.000592</td>\n",
       "      <td>0.000404</td>\n",
       "      <td>-0.001087</td>\n",
       "      <td>0.001004</td>\n",
       "    </tr>\n",
       "    <tr>\n",
       "      <th>5953</th>\n",
       "      <td>962236800</td>\n",
       "      <td>1</td>\n",
       "      <td>0.000151</td>\n",
       "      <td>0.000419</td>\n",
       "      <td>0.000420</td>\n",
       "      <td>-0.000511</td>\n",
       "      <td>0.000588</td>\n",
       "      <td>-0.001145</td>\n",
       "      <td>-0.001344</td>\n",
       "      <td>-0.000874</td>\n",
       "      <td>...</td>\n",
       "      <td>-0.000304</td>\n",
       "      <td>-0.001158</td>\n",
       "      <td>-0.000023</td>\n",
       "      <td>-0.000308</td>\n",
       "      <td>0.000162</td>\n",
       "      <td>-0.000308</td>\n",
       "      <td>-0.000163</td>\n",
       "      <td>-0.000058</td>\n",
       "      <td>-0.000770</td>\n",
       "      <td>-0.000090</td>\n",
       "    </tr>\n",
       "    <tr>\n",
       "      <th>7890</th>\n",
       "      <td>1081555200</td>\n",
       "      <td>1</td>\n",
       "      <td>-0.000147</td>\n",
       "      <td>-0.001155</td>\n",
       "      <td>0.000378</td>\n",
       "      <td>0.000422</td>\n",
       "      <td>-0.000351</td>\n",
       "      <td>0.000470</td>\n",
       "      <td>0.000872</td>\n",
       "      <td>-0.000895</td>\n",
       "      <td>...</td>\n",
       "      <td>0.001579</td>\n",
       "      <td>-0.000505</td>\n",
       "      <td>-0.002012</td>\n",
       "      <td>0.000521</td>\n",
       "      <td>0.001186</td>\n",
       "      <td>-0.001819</td>\n",
       "      <td>-0.001764</td>\n",
       "      <td>0.002542</td>\n",
       "      <td>0.001200</td>\n",
       "      <td>-0.002213</td>\n",
       "    </tr>\n",
       "    <tr>\n",
       "      <th>4650</th>\n",
       "      <td>1084665600</td>\n",
       "      <td>0</td>\n",
       "      <td>-0.000367</td>\n",
       "      <td>0.002989</td>\n",
       "      <td>-0.002085</td>\n",
       "      <td>0.001635</td>\n",
       "      <td>0.004074</td>\n",
       "      <td>0.002553</td>\n",
       "      <td>0.004995</td>\n",
       "      <td>0.000728</td>\n",
       "      <td>...</td>\n",
       "      <td>0.000842</td>\n",
       "      <td>0.000502</td>\n",
       "      <td>-0.003619</td>\n",
       "      <td>-0.000025</td>\n",
       "      <td>0.001170</td>\n",
       "      <td>0.002789</td>\n",
       "      <td>0.004420</td>\n",
       "      <td>0.003658</td>\n",
       "      <td>-0.002678</td>\n",
       "      <td>0.000975</td>\n",
       "    </tr>\n",
       "    <tr>\n",
       "      <th>5924</th>\n",
       "      <td>1088467200</td>\n",
       "      <td>1</td>\n",
       "      <td>0.001358</td>\n",
       "      <td>-0.000464</td>\n",
       "      <td>0.000290</td>\n",
       "      <td>-0.000722</td>\n",
       "      <td>0.000932</td>\n",
       "      <td>-0.001236</td>\n",
       "      <td>-0.000472</td>\n",
       "      <td>0.000461</td>\n",
       "      <td>...</td>\n",
       "      <td>0.000872</td>\n",
       "      <td>-0.000452</td>\n",
       "      <td>-0.000292</td>\n",
       "      <td>-0.001623</td>\n",
       "      <td>-0.000610</td>\n",
       "      <td>-0.000658</td>\n",
       "      <td>-0.000297</td>\n",
       "      <td>0.000566</td>\n",
       "      <td>-0.000280</td>\n",
       "      <td>-0.000117</td>\n",
       "    </tr>\n",
       "  </tbody>\n",
       "</table>\n",
       "<p>5 rows × 52 columns</p>\n",
       "</div>"
      ],
      "text/plain": [
       "            Time  Score         0         1         2         3         4  \\\n",
       "5954   961718400      1 -0.000271 -0.001503  0.001929 -0.000523  0.002598   \n",
       "5953   962236800      1  0.000151  0.000419  0.000420 -0.000511  0.000588   \n",
       "7890  1081555200      1 -0.000147 -0.001155  0.000378  0.000422 -0.000351   \n",
       "4650  1084665600      0 -0.000367  0.002989 -0.002085  0.001635  0.004074   \n",
       "5924  1088467200      1  0.001358 -0.000464  0.000290 -0.000722  0.000932   \n",
       "\n",
       "             5         6         7    ...           40        41        42  \\\n",
       "5954 -0.001261 -0.004744 -0.000404    ...    -0.002476  0.000521  0.002572   \n",
       "5953 -0.001145 -0.001344 -0.000874    ...    -0.000304 -0.001158 -0.000023   \n",
       "7890  0.000470  0.000872 -0.000895    ...     0.001579 -0.000505 -0.002012   \n",
       "4650  0.002553  0.004995  0.000728    ...     0.000842  0.000502 -0.003619   \n",
       "5924 -0.001236 -0.000472  0.000461    ...     0.000872 -0.000452 -0.000292   \n",
       "\n",
       "            43        44        45        46        47        48        49  \n",
       "5954  0.001378  0.000661  0.000855  0.000592  0.000404 -0.001087  0.001004  \n",
       "5953 -0.000308  0.000162 -0.000308 -0.000163 -0.000058 -0.000770 -0.000090  \n",
       "7890  0.000521  0.001186 -0.001819 -0.001764  0.002542  0.001200 -0.002213  \n",
       "4650 -0.000025  0.001170  0.002789  0.004420  0.003658 -0.002678  0.000975  \n",
       "5924 -0.001623 -0.000610 -0.000658 -0.000297  0.000566 -0.000280 -0.000117  \n",
       "\n",
       "[5 rows x 52 columns]"
      ]
     },
     "execution_count": 52,
     "metadata": {},
     "output_type": "execute_result"
    }
   ],
   "source": [
    "negative = df[df['Score'] == 0]\n",
    "positive = df[df['Score'] == 1]\n",
    "data = pd.concat([negative.iloc[:5000,:], positive.iloc[:5000,:]], axis = 0, ignore_index = True)\n",
    "## Sort the dataframe on time\n",
    "data.sort_values('Time', inplace = True)\n",
    "data.head()"
   ]
  },
  {
   "cell_type": "code",
   "execution_count": 53,
   "metadata": {},
   "outputs": [
    {
     "data": {
      "text/plain": [
       "(10000, 52)"
      ]
     },
     "execution_count": 53,
     "metadata": {},
     "output_type": "execute_result"
    }
   ],
   "source": [
    "data.shape"
   ]
  },
  {
   "cell_type": "code",
   "execution_count": 71,
   "metadata": {},
   "outputs": [],
   "source": [
    "# If you do not require some variables, delete them from your main memory\n",
    "del final, df, negative, positive"
   ]
  },
  {
   "cell_type": "code",
   "execution_count": 54,
   "metadata": {},
   "outputs": [
    {
     "data": {
      "text/plain": [
       "1    5000\n",
       "0    5000\n",
       "Name: Score, dtype: int64"
      ]
     },
     "execution_count": 54,
     "metadata": {},
     "output_type": "execute_result"
    }
   ],
   "source": [
    "data['Score'].value_counts()"
   ]
  },
  {
   "cell_type": "markdown",
   "metadata": {},
   "source": [
    "### Separate the featues fom the target variable"
   ]
  },
  {
   "cell_type": "code",
   "execution_count": 57,
   "metadata": {},
   "outputs": [],
   "source": [
    "X = data.drop(labels=['Time', 'Score'], axis = 1)\n",
    "y = data['Score']"
   ]
  },
  {
   "cell_type": "markdown",
   "metadata": {},
   "source": [
    "### Train Test Split"
   ]
  },
  {
   "cell_type": "code",
   "execution_count": 62,
   "metadata": {},
   "outputs": [],
   "source": [
    "# Perform a 70-30 time based splitting (shuffle = False)\n",
    "X_train, X_test, y_train, y_test = train_test_split(X, y, test_size = 0.3, shuffle = False)"
   ]
  },
  {
   "cell_type": "code",
   "execution_count": 63,
   "metadata": {},
   "outputs": [
    {
     "data": {
      "text/plain": [
       "((7000, 50), (7000,), (3000, 50), (3000,))"
      ]
     },
     "execution_count": 63,
     "metadata": {},
     "output_type": "execute_result"
    }
   ],
   "source": [
    "X_train.shape, y_train.shape, X_test.shape, y_test.shape"
   ]
  },
  {
   "cell_type": "markdown",
   "metadata": {},
   "source": [
    "### Column Standardization"
   ]
  },
  {
   "cell_type": "code",
   "execution_count": 64,
   "metadata": {},
   "outputs": [],
   "source": [
    "# Create an object of StandardScaler\n",
    "s = StandardScaler() # Since we are passing sparse matrix\n",
    "# Call the fit_transform method on training data\n",
    "X_train = s.fit_transform(X_train)\n",
    "# Call the transform method on the test dataset\n",
    "X_test = s.transform(X_test)"
   ]
  },
  {
   "cell_type": "markdown",
   "metadata": {},
   "source": [
    "## Model Building - Hyperparameter tuning and k-fold Cross validation"
   ]
  },
  {
   "cell_type": "code",
   "execution_count": 65,
   "metadata": {},
   "outputs": [
    {
     "name": "stdout",
     "output_type": "stream",
     "text": [
      "\n",
      "The optimal number of neighbors is 17\n",
      "Total time in minutes =  3.1074315667152406\n"
     ]
    }
   ],
   "source": [
    "start = time.time()\n",
    "# creating odd list of K for KNN\n",
    "neighbors = range(1,20,2)\n",
    "\n",
    "cv_scores = [] # empty list that will hold cv scores\n",
    "\n",
    "# Try each value of k in the below loop\n",
    "for k in neighbors:\n",
    "    # Create an object of the class KNeighborsClassifier\n",
    "    knn = KNeighborsClassifier(n_neighbors=k)\n",
    "    # perform 5-fold cross validation\n",
    "    # It returns the cv accuracy for each fold in a list\n",
    "    scores = cross_val_score(knn, X_train, y_train, cv=5, scoring='accuracy')\n",
    "    # Store the mean of the accuracies from all the 4 folds\n",
    "    cv_scores.append(scores.mean())\n",
    "\n",
    "# calculate misclassification error from accuracy (error = 1 - accuracy)\n",
    "cv_error = [1 - x for x in cv_scores]\n",
    "\n",
    "# optimal (best) k is the one for which error is minimum (or accuracy is maximum)\n",
    "optimal_k = neighbors[cv_error.index(min(cv_error))]\n",
    "print('\\nThe optimal number of neighbors is', optimal_k)\n",
    "\n",
    "end = time.time()\n",
    "print(\"Total time in minutes = \", (end-start)/60)"
   ]
  },
  {
   "cell_type": "code",
   "execution_count": 66,
   "metadata": {},
   "outputs": [
    {
     "data": {
      "text/plain": [
       "Text(0,0.5,'Misclassification Error')"
      ]
     },
     "execution_count": 66,
     "metadata": {},
     "output_type": "execute_result"
    },
    {
     "data": {
      "image/png": "[encoded data removed]",
      "text/plain": [
       "<Figure size 432x288 with 1 Axes>"
      ]
     },
     "metadata": {},
     "output_type": "display_data"
    }
   ],
   "source": [
    "# plot misclassification error vs k \n",
    "plt.plot(neighbors, cv_error)\n",
    "plt.xlabel('Number of Neighbors K')\n",
    "plt.ylabel('Misclassification Error')"
   ]
  },
  {
   "cell_type": "markdown",
   "metadata": {},
   "source": [
    "### Build the final model with the optimal value of k"
   ]
  },
  {
   "cell_type": "code",
   "execution_count": 67,
   "metadata": {},
   "outputs": [
    {
     "data": {
      "text/plain": [
       "KNeighborsClassifier(algorithm='auto', leaf_size=30, metric='minkowski',\n",
       "           metric_params=None, n_jobs=1, n_neighbors=17, p=2,\n",
       "           weights='uniform')"
      ]
     },
     "execution_count": 67,
     "metadata": {},
     "output_type": "execute_result"
    }
   ],
   "source": [
    "clf = KNeighborsClassifier(n_neighbors = optimal_k)\n",
    "clf.fit(X_train, y_train)"
   ]
  },
  {
   "cell_type": "markdown",
   "metadata": {},
   "source": [
    "### Make the predictions on the test set"
   ]
  },
  {
   "cell_type": "code",
   "execution_count": 68,
   "metadata": {},
   "outputs": [],
   "source": [
    "y_pred = clf.predict(X_test)"
   ]
  },
  {
   "cell_type": "markdown",
   "metadata": {},
   "source": [
    "### Calculate test accuracy"
   ]
  },
  {
   "cell_type": "code",
   "execution_count": 69,
   "metadata": {},
   "outputs": [
    {
     "data": {
      "text/plain": [
       "60.66666666666667"
      ]
     },
     "execution_count": 69,
     "metadata": {},
     "output_type": "execute_result"
    }
   ],
   "source": [
    "acc = accuracy_score(y_test, y_pred) * 100\n",
    "acc"
   ]
  },
  {
   "cell_type": "markdown",
   "metadata": {},
   "source": [
    "### Check the confusion matrix"
   ]
  },
  {
   "cell_type": "code",
   "execution_count": 70,
   "metadata": {},
   "outputs": [
    {
     "data": {
      "text/plain": [
       "array([[1011,  572],\n",
       "       [ 608,  809]], dtype=int64)"
      ]
     },
     "execution_count": 70,
     "metadata": {},
     "output_type": "execute_result"
    }
   ],
   "source": [
    "confusion_matrix(y_test, y_pred)"
   ]
  },
  {
   "cell_type": "markdown",
   "metadata": {},
   "source": [
    "#### Refer - http://scikit-learn.org/stable/modules/generated/sklearn.metrics.confusion_matrix.html\n",
    "**Interpretation:**\n",
    "* 1011 negative reviews classified as negative (true negative)\n",
    "* 572 positive reviews classified as negative (false negative)\n",
    "* 608 negative reviews classified as positive (false positive)\n",
    "* 809 positive reviews classified as positive (true positive)"
   ]
  },
  {
   "cell_type": "markdown",
   "metadata": {},
   "source": [
    "### Predict Probabilities"
   ]
  },
  {
   "cell_type": "code",
   "execution_count": null,
   "metadata": {},
   "outputs": [],
   "source": [
    "# Select a random test point\n",
    "i = np.random.randint(1,3000)\n",
    "y_pred = clf.predict(X_test[i])[0]\n",
    "y_proba = clf.predict_proba(X_test[i])[0]\n",
    "print(\"Actual class:\",y_test.iloc[i])\n",
    "print(\"Predicted class class:\",y_pred)\n",
    "print(\"Predicted probabilities\",y_proba)"
   ]
  }
 ],
 "metadata": {
  "kernelspec": {
   "display_name": "Python 3",
   "language": "python",
   "name": "python3"
  },
  "language_info": {
   "codemirror_mode": {
    "name": "ipython",
    "version": 3
   },
   "file_extension": ".py",
   "mimetype": "text/x-python",
   "name": "python",
   "nbconvert_exporter": "python",
   "pygments_lexer": "ipython3",
   "version": "3.6.5"
  }
 },
 "nbformat": 4,
 "nbformat_minor": 2
}
